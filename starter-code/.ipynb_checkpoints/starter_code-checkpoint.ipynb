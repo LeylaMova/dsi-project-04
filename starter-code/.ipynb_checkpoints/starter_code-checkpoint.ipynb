{
 "cells": [
  {
   "cell_type": "markdown",
   "metadata": {
    "focus": false,
    "id": "69b9a648-bcc7-490d-9f9b-ea244d156bd6"
   },
   "source": [
    "# Web Scraping for Indeed.com & Predicting Salaries"
   ]
  },
  {
   "cell_type": "markdown",
   "metadata": {
    "focus": false,
    "id": "34681254-c802-462f-829d-8894d0772d08"
   },
   "source": [
    "In this project, we will practice two major skills: collecting data by scraping a website and then building a binary predictor with Logistic Regression.\n",
    "\n",
    "We are going to collect salary information on data science jobs in a variety of markets. Then using the location, title and summary of the job we will attempt to predict the salary of the job. For job posting sites, this would be extraordinarily useful. While most listings DO NOT come with salary information (as you will see in this exercise), being to able extrapolate or predict the expected salaries from other listings can help guide negotiations.\n",
    "\n",
    "Normally, we could use regression for this task; however, we will convert this problem into classification and use Logistic Regression.\n",
    "\n",
    "- Question: Why would we want this to be a classification problem?\n",
    "- Answer: While more precision may be better, there is a fair amount of natural variance in job salaries - predicting a range be may be useful.\n",
    "\n",
    "Therefore, the first part of the assignment will be focused on scraping Indeed.com. In the second, we'll focus on using listings with salary information to build a model and predict additional salaries."
   ]
  },
  {
   "cell_type": "markdown",
   "metadata": {
    "focus": false,
    "id": "a948d79c-5527-4c0d-ab23-f5d43ce72056"
   },
   "source": [
    "### Scraping job listings from Indeed.com"
   ]
  },
  {
   "cell_type": "markdown",
   "metadata": {
    "focus": true,
    "id": "7203e0c9-e437-4802-a6ad-7dc464f94436"
   },
   "source": [
    "We will be scraping job listings from Indeed.com using BeautifulSoup. Luckily, Indeed.com is a simple text page where we can easily find relevant entries.\n",
    "\n",
    "First, look at the source of an Indeed.com page: (http://www.indeed.com/jobs?q=data+scientist+%2420%2C000&l=New+York&start=10\")\n",
    "\n",
    "Notice, each job listing is underneath a `div` tag with a class name of `result`. We can use BeautifulSoup to extract those. "
   ]
  },
  {
   "cell_type": "markdown",
   "metadata": {
    "focus": false,
    "id": "9732c901-ae26-4160-8376-42e22dd327df"
   },
   "source": [
    "#### Setup a request (using `requests`) to the URL below. Use BeautifulSoup to parse the page and extract all results (HINT: Look for div tags with class name result)\n",
    "\n",
    "The URL here has many query parameters\n",
    "\n",
    "- `q` for the job search\n",
    "- This is followed by \"+20,000\" to return results with salaries (or expected salaries >$20,000)\n",
    "- `l` for a location \n",
    "- `start` for what result number to start on"
   ]
  },
  {
   "cell_type": "code",
   "execution_count": null,
   "metadata": {
    "collapsed": false,
    "focus": false,
    "id": "e915023e-6b0d-4982-af2a-b1e0355f4927"
   },
   "outputs": [],
   "source": [
    "#URL = \"http://www.indeed.com/jobs?q=data+scientist+%2420%2C000&l=New+York&start=10\""
   ]
  },
  {
   "cell_type": "code",
   "execution_count": null,
   "metadata": {
    "collapsed": true,
    "focus": false,
    "id": "2efefc73-064a-482d-b3b5-ddf5508cb4ec"
   },
   "outputs": [],
   "source": [
    "#import requests\n",
    "#import bs4\n",
    "#from bs4 import BeautifulSoup"
   ]
  },
  {
   "cell_type": "code",
   "execution_count": null,
   "metadata": {
    "collapsed": true,
    "focus": false,
    "id": "2c6752c4-7704-4c94-8bc0-6f13d2d0d570"
   },
   "outputs": [],
   "source": [
    "## YOUR CODE HERE"
   ]
  },
  {
   "cell_type": "markdown",
   "metadata": {
    "focus": false,
    "id": "bb0b866a-26a7-45e9-8084-5a0f90eb4b3e"
   },
   "source": [
    "Let's look at one result more closely. A single `result` looks like\n",
    "\n",
    "```\n",
    "<div class=\" row result\" data-jk=\"2480d203f7e97210\" data-tn-component=\"organicJob\" id=\"p_2480d203f7e97210\" itemscope=\"\" itemtype=\"http://schema.org/JobPosting\">\n",
    "<h2 class=\"jobtitle\" id=\"jl_2480d203f7e97210\">\n",
    "<a class=\"turnstileLink\" data-tn-element=\"jobTitle\" onmousedown=\"return rclk(this,jobmap[0],1);\" rel=\"nofollow\" target=\"_blank\" title=\"AVP/Quantitative Analyst\">AVP/Quantitative Analyst</a>\n",
    "</h2>\n",
    "<span class=\"company\" itemprop=\"hiringOrganization\" itemtype=\"http://schema.org/Organization\">\n",
    "<span itemprop=\"name\">\n",
    "<a href=\"/cmp/Alliancebernstein?from=SERP&amp;campaignid=serp-linkcompanyname&amp;fromjk=2480d203f7e97210&amp;jcid=b374f2a780e04789\" target=\"_blank\">\n",
    "    AllianceBernstein</a></span>\n",
    "</span>\n",
    "<tr>\n",
    "<td class=\"snip\">\n",
    "<nobr>$117,500 - $127,500 a year</nobr>\n",
    "<div>\n",
    "<span class=\"summary\" itemprop=\"description\">\n",
    "C onduct quantitative and statistical research as well as portfolio management for various investment portfolios. Collaborate with Quantitative Analysts and</span>\n",
    "</div>\n",
    "</div>\n",
    "</td>\n",
    "</tr>\n",
    "</table>\n",
    "</div>\n",
    "```\n",
    "\n",
    "While this has some more verbose elements removed, we can see that there is some structure to the above:\n",
    "- The salary is available in a `nobr` element inside of a `td` element with `class='snip`.\n",
    "- The title of a job is in a link with class set to `jobtitle` and a `data-tn-element=\"jobTitle`.  \n",
    "- The location is set in a `span` with `class='location'`. \n",
    "- The company is set in a `span` with `class='company'`. "
   ]
  },
  {
   "cell_type": "markdown",
   "metadata": {
    "focus": false,
    "id": "f1eddb90-4ba8-483c-a229-77e93aa53119"
   },
   "source": [
    "### Write 4 functions to extract each item: location, company, job, and salary.\n",
    "\n",
    "example: \n",
    "```python\n",
    "def extract_location_from_result(result):\n",
    "    return result.find ...\n",
    "```\n",
    "\n",
    "\n",
    "- **Make sure these functions are robust and can handle cases where the data/field may not be available.**\n",
    "    - Remember to check if a field is empty or `None` for attempting to call methods on it\n",
    "    - Remember to use `try/except` if you anticipate errors\n",
    "- **Test** the functions on the results above and simple examples"
   ]
  },
  {
   "cell_type": "code",
   "execution_count": null,
   "metadata": {
    "collapsed": true,
    "focus": false,
    "id": "a1af53c9-9090-494f-b82e-cadb60a54909"
   },
   "outputs": [],
   "source": [
    "## YOUR CODE HERE"
   ]
  },
  {
   "cell_type": "markdown",
   "metadata": {
    "focus": false,
    "id": "34070e89-9521-4b45-90c8-57a6599aac68"
   },
   "source": [
    "Now, to scale up our scraping, we need to accumulate more results. We can do this by examining the URL above.\n",
    "\n",
    "- \"http://www.indeed.com/jobs?q=data+scientist+%2420%2C000&l=New+York&start=10\"\n",
    "\n",
    "There are two query parameters here we can alter to collect more results, the `l=New+York` and the `start=10`. The first controls the location of the results (so we can try a different city). The second controls where in the results to start and gives 10 results (thus, we can keep incrementing by 10 to go further in the list)."
   ]
  },
  {
   "cell_type": "markdown",
   "metadata": {
    "focus": false,
    "id": "e8beed7c-3e42-40c0-810f-5f67f8f885a0"
   },
   "source": [
    "#### Complete the following code to collect results from multiple cities and starting points. \n",
    "- Enter your city below to add it to the search\n",
    "- Remember to convert your salary to U.S. Dollars to match the other cities if the currency is different"
   ]
  },
  {
   "cell_type": "code",
   "execution_count": null,
   "metadata": {
    "collapsed": true,
    "focus": false,
    "id": "a9aa87ec-3575-4a01-a986-eb684f2c47d0"
   },
   "outputs": [],
   "source": [
    "#YOUR_CITY = ''"
   ]
  },
  {
   "cell_type": "code",
   "execution_count": null,
   "metadata": {
    "collapsed": false,
    "focus": false,
    "id": "04b0f9af-540e-402f-8292-81748707c676"
   },
   "outputs": [],
   "source": [
    "#url_template = \"http://www.indeed.com/jobs?q=data+scientist+%2420%2C000&l={}&start={}\"\n",
    "#max_results_per_city = 100 # Set this to a high-value (5000) to generate more results. \n",
    "## Crawling more results, will also take much longer. First test your code on a small number of results and then expand.\n",
    "#\n",
    "#results = []\n",
    "#\n",
    "#for city in set(['New+York', 'Chicago', 'San+Francisco', 'Austin', 'Seattle', \n",
    "#    'Los+Angeles', 'Philadelphia', 'Atlanta', 'Dallas', 'Pittsburgh', \n",
    "#    'Portland', 'Phoenix', 'Denver', 'Houston', 'Miami', YOUR_CITY]):\n",
    "#    for start in range(0, max_results_per_city, 10):\n",
    "#        # Grab the results from the request (as above)\n",
    "#        # Append to the full set of results\n",
    "#        pass"
   ]
  },
  {
   "cell_type": "markdown",
   "metadata": {
    "focus": false,
    "id": "20339c09-5032-4e27-91be-286e9b46cd13"
   },
   "source": [
    "#### Use the functions you wrote above to parse out the 4 fields - location, title, company and salary. Create a dataframe from the results with those 4 columns."
   ]
  },
  {
   "cell_type": "markdown",
   "metadata": {
    "focus": false,
    "id": "ff98ce64-78a7-441f-a675-63464e32c834"
   },
   "source": [
    "Lastly, we need to clean up salary data. \n",
    "\n",
    "1. Only a small number of the scraped results have salary information - only these will be used for modeling.\n",
    "1. Some of the salaries are not yearly but hourly or weekly, these will not be useful to us for now\n",
    "1. Some of the entries may be duplicated\n",
    "1. The salaries are given as text and usually with ranges.\n",
    "\n",
    "#### Find the entries with annual salary entries, by filtering the entries without salaries or salaries that are not yearly (filter those that refer to hour or week). Also, remove duplicate entries"
   ]
  },
  {
   "cell_type": "markdown",
   "metadata": {
    "focus": false,
    "id": "7d4bc860-b214-4f75-9cd0-b234830b1ec2"
   },
   "source": [
    "#### Write a function that takes a salary string and converts it to a number, averaging a salary range if necessary"
   ]
  },
  {
   "cell_type": "code",
   "execution_count": null,
   "metadata": {
    "collapsed": true,
    "focus": false,
    "id": "a0f701e0-80bd-40ba-9101-4535860c0968"
   },
   "outputs": [],
   "source": [
    "## YOUR CODE HERE"
   ]
  },
  {
   "cell_type": "markdown",
   "metadata": {
    "collapsed": false,
    "focus": false,
    "id": "43e71edd-210e-42b1-9336-70a931f048af"
   },
   "source": [
    "### Save your results as a CSV"
   ]
  },
  {
   "cell_type": "code",
   "execution_count": null,
   "metadata": {
    "collapsed": true,
    "focus": false,
    "id": "783fd153-28ac-47ab-bfca-27e7c1de95b4"
   },
   "outputs": [],
   "source": [
    "## YOUR CODE HERE"
   ]
  },
  {
   "cell_type": "markdown",
   "metadata": {
    "focus": false,
    "id": "04563b69-f7b6-466f-9d65-fc62c9ddee6a"
   },
   "source": [
    "## Predicting salaries using Logistic Regression"
   ]
  },
  {
   "cell_type": "markdown",
   "metadata": {
    "focus": false,
    "id": "243e949e-2742-40af-872e-fec475fd306c"
   },
   "source": [
    "#### Load in the the data of scraped salaries"
   ]
  },
  {
   "cell_type": "code",
   "execution_count": 1,
   "metadata": {
    "collapsed": true
   },
   "outputs": [],
   "source": [
    "import pandas as pd\n",
    "import numpy as np\n",
    "import matplotlib.pylab as plt\n",
    "import seaborn as sns\n",
    "%matplotlib inline\n"
   ]
  },
  {
   "cell_type": "code",
   "execution_count": 2,
   "metadata": {
    "collapsed": false
   },
   "outputs": [],
   "source": [
    "df = pd.read_csv('../../../data/indeed-scraped-job-postings.csv')"
   ]
  },
  {
   "cell_type": "code",
   "execution_count": 3,
   "metadata": {
    "collapsed": false
   },
   "outputs": [
    {
     "name": "stdout",
     "output_type": "stream",
     "text": [
      "<class 'pandas.core.frame.DataFrame'>\n",
      "RangeIndex: 413 entries, 0 to 412\n",
      "Data columns (total 6 columns):\n",
      "city             413 non-null object\n",
      "company          413 non-null object\n",
      "salary           413 non-null object\n",
      "summary          413 non-null object\n",
      "title            413 non-null object\n",
      "parsed_salary    406 non-null float64\n",
      "dtypes: float64(1), object(5)\n",
      "memory usage: 19.4+ KB\n"
     ]
    }
   ],
   "source": [
    "df.info()"
   ]
  },
  {
   "cell_type": "code",
   "execution_count": 4,
   "metadata": {
    "collapsed": false,
    "focus": false,
    "id": "588f9845-6143-4bcc-bfd1-85d45b79303d"
   },
   "outputs": [
    {
     "data": {
      "text/html": [
       "<div>\n",
       "<table border=\"1\" class=\"dataframe\">\n",
       "  <thead>\n",
       "    <tr style=\"text-align: right;\">\n",
       "      <th></th>\n",
       "      <th>city</th>\n",
       "      <th>company</th>\n",
       "      <th>salary</th>\n",
       "      <th>summary</th>\n",
       "      <th>title</th>\n",
       "      <th>parsed_salary</th>\n",
       "    </tr>\n",
       "  </thead>\n",
       "  <tbody>\n",
       "    <tr>\n",
       "      <th>0</th>\n",
       "      <td>Denver</td>\n",
       "      <td>Department Of The Interior</td>\n",
       "      <td>$76,341 - $99,243 a year</td>\n",
       "      <td>Would you like to join the more than 10,000 sc...</td>\n",
       "      <td>Statistician, GS-1350-12 (DEU-PERM-DS)</td>\n",
       "      <td>87792.0</td>\n",
       "    </tr>\n",
       "    <tr>\n",
       "      <th>1</th>\n",
       "      <td>Denver</td>\n",
       "      <td>Department Of The Interior</td>\n",
       "      <td>$71,012 - $99,243 a year</td>\n",
       "      <td>Investigate potential uses of geospatial data ...</td>\n",
       "      <td>Interdisciplinary Cartographer/Geographer - GS...</td>\n",
       "      <td>85127.5</td>\n",
       "    </tr>\n",
       "  </tbody>\n",
       "</table>\n",
       "</div>"
      ],
      "text/plain": [
       "     city                     company                    salary  \\\n",
       "0  Denver  Department Of The Interior  $76,341 - $99,243 a year   \n",
       "1  Denver  Department Of The Interior  $71,012 - $99,243 a year   \n",
       "\n",
       "                                             summary  \\\n",
       "0  Would you like to join the more than 10,000 sc...   \n",
       "1  Investigate potential uses of geospatial data ...   \n",
       "\n",
       "                                               title  parsed_salary  \n",
       "0             Statistician, GS-1350-12 (DEU-PERM-DS)        87792.0  \n",
       "1  Interdisciplinary Cartographer/Geographer - GS...        85127.5  "
      ]
     },
     "execution_count": 4,
     "metadata": {},
     "output_type": "execute_result"
    }
   ],
   "source": [
    "df.head(2)"
   ]
  },
  {
   "cell_type": "code",
   "execution_count": 5,
   "metadata": {
    "collapsed": false
   },
   "outputs": [
    {
     "data": {
      "text/plain": [
       "(413, 6)"
      ]
     },
     "execution_count": 5,
     "metadata": {},
     "output_type": "execute_result"
    }
   ],
   "source": [
    "df.shape"
   ]
  },
  {
   "cell_type": "code",
   "execution_count": 6,
   "metadata": {
    "collapsed": false
   },
   "outputs": [
    {
     "data": {
      "text/plain": [
       "array(['Denver', 'Austin', 'Seattle', 'Philadelphia', 'Palo+Alto',\n",
       "       'Pittsburgh', 'Miami', 'Chicago', 'Dallas', 'San+Diego', 'New+York',\n",
       "       'Boston', 'Los+Angeles', 'Phoenix', 'Houston', 'Portland',\n",
       "       'San+Francisco', 'Atlanta'], dtype=object)"
      ]
     },
     "execution_count": 6,
     "metadata": {},
     "output_type": "execute_result"
    }
   ],
   "source": [
    "df.city.unique()"
   ]
  },
  {
   "cell_type": "code",
   "execution_count": 7,
   "metadata": {
    "collapsed": false
   },
   "outputs": [],
   "source": [
    "df.dropna(inplace=True)\n",
    "df.drop(['salary'], axis=1, inplace=True)"
   ]
  },
  {
   "cell_type": "code",
   "execution_count": 8,
   "metadata": {
    "collapsed": false
   },
   "outputs": [
    {
     "data": {
      "text/plain": [
       "107762.69581280788"
      ]
     },
     "execution_count": 8,
     "metadata": {},
     "output_type": "execute_result"
    }
   ],
   "source": [
    "mean = df.parsed_salary.mean()\n",
    "mean"
   ]
  },
  {
   "cell_type": "code",
   "execution_count": 9,
   "metadata": {
    "collapsed": true
   },
   "outputs": [],
   "source": [
    "df['above_107k'] = df.parsed_salary.apply(lambda x: 1 if x > mean else 0)"
   ]
  },
  {
   "cell_type": "code",
   "execution_count": 10,
   "metadata": {
    "collapsed": false
   },
   "outputs": [
    {
     "data": {
      "text/plain": [
       "0    217\n",
       "1    189\n",
       "Name: above_107k, dtype: int64"
      ]
     },
     "execution_count": 10,
     "metadata": {},
     "output_type": "execute_result"
    }
   ],
   "source": [
    "df['above_107k'].value_counts()"
   ]
  },
  {
   "cell_type": "code",
   "execution_count": 11,
   "metadata": {
    "collapsed": true
   },
   "outputs": [],
   "source": [
    "# Domain and Data\n",
    "\n",
    "# Data from indeed was scaped and prepared for predicting skills needed\n",
    "# for data scientists to leverage negotiation.\n",
    "\n",
    "# 406 job posts from 18 US cities\n",
    "# 5 feautures: city, company, salary range, job summary and title"
   ]
  },
  {
   "cell_type": "code",
   "execution_count": 12,
   "metadata": {
    "collapsed": false
   },
   "outputs": [],
   "source": [
    "# Problem Statement\n",
    "\n",
    "# What factors most directly impact salaries of a data scientist (Title, \n",
    "# location, department, etc.)? We need a model that can predict a good salary\n",
    "# depending on skills and experience with minimizing the false positive rate\n",
    "# which is x-axis on the curve. To ensure clients plot the ROC curve and \n",
    "# explain the significance and any tradeoffs. "
   ]
  },
  {
   "cell_type": "code",
   "execution_count": 13,
   "metadata": {
    "collapsed": false
   },
   "outputs": [],
   "source": [
    "# Solution Statement\n",
    "\n",
    "# We will develp a binary classification method using KNearestNeighbors \n",
    "# classifier."
   ]
  },
  {
   "cell_type": "code",
   "execution_count": 14,
   "metadata": {
    "collapsed": true
   },
   "outputs": [],
   "source": [
    "# Metric\n",
    "\n",
    "# we evaluate the models based on the correct and incorrect labeling \n",
    "# of classes. We will examine all of the metrics Accuracy, Precision, Recall, and \n",
    "# AUC. In this scenerio Recall and Auc are more important."
   ]
  },
  {
   "cell_type": "code",
   "execution_count": 15,
   "metadata": {
    "collapsed": false
   },
   "outputs": [
    {
     "data": {
      "text/plain": [
       "0.5344827586206897"
      ]
     },
     "execution_count": 15,
     "metadata": {},
     "output_type": "execute_result"
    }
   ],
   "source": [
    "base_accuracy = 1.0 - df['above_107k'].mean()\n",
    "base_accuracy"
   ]
  },
  {
   "cell_type": "code",
   "execution_count": 16,
   "metadata": {
    "collapsed": true
   },
   "outputs": [],
   "source": [
    "# Benchmark\n",
    "\n",
    "# We will use 0.53 as our base accuracy benchmark."
   ]
  },
  {
   "cell_type": "markdown",
   "metadata": {
    "focus": false,
    "id": "c7631f51-07f2-4c79-a093-3e9bc7849a48"
   },
   "source": [
    "#### We want to predict a binary variable - whether the salary was low or high. Compute the median salary and create a new binary variable that is true when the salary is high (above the median)\n",
    "\n",
    "We could also perform Linear Regression (or any regression) to predict the salary value here. Instead, we are going to convert this into a _binary_ classification problem, by predicting two classes, HIGH vs LOW salary.\n",
    "\n",
    "While performing regression may be better, performing classification may help remove some of the noise of the extreme salaries. We don't have to choice the `median` as the splitting point - we could also split on the 75th percentile or any other reasonable breaking point.\n",
    "\n",
    "In fact, the ideal scenario may be to predict many levels of salaries, "
   ]
  },
  {
   "cell_type": "code",
   "execution_count": 17,
   "metadata": {
    "collapsed": false
   },
   "outputs": [],
   "source": [
    "# clean data and extract key words! I wish I had known about CountVectorizer\n",
    "# before this whole mess :/\n",
    "\n",
    "df.summary = df.summary.str.replace((',|/|\\(|\\)'),(' ')).str.strip().str.lower()\n",
    "df.title = df.title.str.replace((',|/|\\(|\\)'),(' ')).str.strip().str.lower()"
   ]
  },
  {
   "cell_type": "code",
   "execution_count": 18,
   "metadata": {
    "collapsed": true
   },
   "outputs": [],
   "source": [
    "ds_tools = 'R SQL Python ML NLP C Algorithms Algorithm Algo MYSQL \\\n",
    "CNUP JS Java Erlang Impala Geospatial Hadoop SAS Java Hive \\\n",
    "Matlab Pig UNIX Linux Ruby SPSS Tableau Excel AWS \\\n",
    "SVP API Spark Scala awk Cassandra JavaScript Storm Cloud Agile'"
   ]
  },
  {
   "cell_type": "code",
   "execution_count": 19,
   "metadata": {
    "collapsed": false
   },
   "outputs": [],
   "source": [
    "ds_tools = ds_tools.lower().split()"
   ]
  },
  {
   "cell_type": "code",
   "execution_count": 20,
   "metadata": {
    "collapsed": false
   },
   "outputs": [],
   "source": [
    "import re\n",
    "pattern = re.compile(r'\\b(' + r'|'.join(ds_tools) + r')\\b\\s*')\n",
    "df['language'] = df['summary'].str.findall(pattern)\n",
    "df['language_t'] = df['title'].str.findall(pattern)"
   ]
  },
  {
   "cell_type": "code",
   "execution_count": 21,
   "metadata": {
    "collapsed": false
   },
   "outputs": [
    {
     "data": {
      "text/html": [
       "<div>\n",
       "<table border=\"1\" class=\"dataframe\">\n",
       "  <thead>\n",
       "    <tr style=\"text-align: right;\">\n",
       "      <th></th>\n",
       "      <th>city</th>\n",
       "      <th>company</th>\n",
       "      <th>summary</th>\n",
       "      <th>title</th>\n",
       "      <th>parsed_salary</th>\n",
       "      <th>above_107k</th>\n",
       "      <th>language</th>\n",
       "      <th>language_t</th>\n",
       "    </tr>\n",
       "  </thead>\n",
       "  <tbody>\n",
       "    <tr>\n",
       "      <th>0</th>\n",
       "      <td>Denver</td>\n",
       "      <td>Department Of The Interior</td>\n",
       "      <td>would you like to join the more than 10 000 sc...</td>\n",
       "      <td>statistician  gs-1350-12  deu-perm-ds</td>\n",
       "      <td>87792.0</td>\n",
       "      <td>0</td>\n",
       "      <td>[]</td>\n",
       "      <td>[]</td>\n",
       "    </tr>\n",
       "    <tr>\n",
       "      <th>1</th>\n",
       "      <td>Denver</td>\n",
       "      <td>Department Of The Interior</td>\n",
       "      <td>investigate potential uses of geospatial data ...</td>\n",
       "      <td>interdisciplinary cartographer geographer - gs...</td>\n",
       "      <td>85127.5</td>\n",
       "      <td>0</td>\n",
       "      <td>[geospatial]</td>\n",
       "      <td>[]</td>\n",
       "    </tr>\n",
       "    <tr>\n",
       "      <th>2</th>\n",
       "      <td>Denver</td>\n",
       "      <td>Mental Health Center of Denver</td>\n",
       "      <td>advise the data developer with regard to creat...</td>\n",
       "      <td>financial data scientist</td>\n",
       "      <td>75000.0</td>\n",
       "      <td>0</td>\n",
       "      <td>[]</td>\n",
       "      <td>[]</td>\n",
       "    </tr>\n",
       "  </tbody>\n",
       "</table>\n",
       "</div>"
      ],
      "text/plain": [
       "     city                         company  \\\n",
       "0  Denver      Department Of The Interior   \n",
       "1  Denver      Department Of The Interior   \n",
       "2  Denver  Mental Health Center of Denver   \n",
       "\n",
       "                                             summary  \\\n",
       "0  would you like to join the more than 10 000 sc...   \n",
       "1  investigate potential uses of geospatial data ...   \n",
       "2  advise the data developer with regard to creat...   \n",
       "\n",
       "                                               title  parsed_salary  \\\n",
       "0              statistician  gs-1350-12  deu-perm-ds        87792.0   \n",
       "1  interdisciplinary cartographer geographer - gs...        85127.5   \n",
       "2                           financial data scientist        75000.0   \n",
       "\n",
       "   above_107k      language language_t  \n",
       "0           0            []         []  \n",
       "1           0  [geospatial]         []  \n",
       "2           0            []         []  "
      ]
     },
     "execution_count": 21,
     "metadata": {},
     "output_type": "execute_result"
    }
   ],
   "source": [
    "df.head(3)"
   ]
  },
  {
   "cell_type": "code",
   "execution_count": 22,
   "metadata": {
    "collapsed": false
   },
   "outputs": [],
   "source": [
    "level = ['senior','sr.','junior','jr.','lead','vp','vice president', 'avp','assistant',\n",
    "         'asst.','director','dir','staff','master','masters','postdoc','manager','mid-level',\n",
    "         'postdoctoral','post-doctoral','deputy','associate','entry level',' 1 ',' 2 ',' 3 ',\n",
    "         ' iv ',' iii ',' ii ',' i ','phd','fellow','head','supervisory','snr','chief',\n",
    "         'specialist','ms','consultant','consultants']\n",
    "\n",
    "pattern = '(%s)' % '|'.join(level)\n",
    "df['levels'] = df['title'].str.findall(pattern)"
   ]
  },
  {
   "cell_type": "code",
   "execution_count": 23,
   "metadata": {
    "collapsed": false
   },
   "outputs": [],
   "source": [
    "df['levels'] = df['levels'].apply(lambda x: '-'.join(x))"
   ]
  },
  {
   "cell_type": "code",
   "execution_count": 24,
   "metadata": {
    "collapsed": false
   },
   "outputs": [
    {
     "data": {
      "text/plain": [
       "array(['', 'senior', 'assistant', 'specialist', 'manager',\n",
       "       'assistant-manager', 'sr.', 'postdoc', 'entry level', 'lead',\n",
       "       'director', 'staff', 'master', 'ms', 'associate', 'sr.-consultant',\n",
       "       'ms-phd', 'mid-level', 'senior-manager', 'vp', 'avp', ' 3 ',\n",
       "       'senior-director', 'post-doctoral', ' iii ', 'deputy-director',\n",
       "       'ms-manager', 'assistant- i ', 'junior', 'postdoc-fellow',\n",
       "       'senior-staff-assistant', 'senior-lead', 'postdoc-associate',\n",
       "       'senior-ms', 'jr.', 'manager-ms', 'asst.-director', 'chief', 'phd',\n",
       "       'junior-mid-level', 'phd-ms', ' iv ', ' ii ',\n",
       "       'senior-staff-director', 'specialist- i ', 'head', 'vice president',\n",
       "       'supervisory', 'dir', 'snr'], dtype=object)"
      ]
     },
     "execution_count": 24,
     "metadata": {},
     "output_type": "execute_result"
    }
   ],
   "source": [
    "df['levels'].unique()"
   ]
  },
  {
   "cell_type": "code",
   "execution_count": 25,
   "metadata": {
    "collapsed": false
   },
   "outputs": [],
   "source": [
    "df['levels'] = np.where(df['levels'] =='sr.', 'senior', df['levels'])\n",
    "df['levels'] = np.where(df['levels'] =='jr.', 'junior', df['levels'])\n",
    "df['levels'] = np.where(df['levels'] =='post-doctoral','postdoc', df['levels'])\n",
    "df['levels'] = np.where(df['levels'] =='entry level', 'assistant', df['levels'])\n",
    "df['levels'] = np.where(df['levels'] =='avp', 'assistant', df['levels'])\n",
    "df['levels'] = np.where(df['levels'] ==' 3 ', 'junior', df['levels'])\n",
    "df['levels'] = np.where(df['levels'] ==' iv ', 'senior', df['levels'])\n",
    "df['levels'] = np.where(df['levels'] =='assistant- i ', 'assistant', df['levels'])\n",
    "df['levels'] = np.where(df['levels'] =='specialist- i ', 'assistant', df['levels'])\n",
    "df['levels'] = np.where(df['levels'] ==' ii ', 'junior', df['levels'])\n",
    "df['levels'] = np.where(df['levels'] ==' iii ', 'junior', df['levels'])\n",
    "df['levels'] = np.where(df['levels'] =='mid-level', 'junior', df['levels'])\n",
    "df['levels'] = np.where(df['levels'] =='vice president', 'vp', df['levels'])\n",
    "df['levels'] = np.where(df['levels'] =='dir', 'director', df['levels'])\n",
    "df['levels'] = np.where(df['levels'] =='asst.-director', 'assistant', df['levels'])\n",
    "df['levels'] = np.where(df['levels'] =='snr', 'senior', df['levels'])\n",
    "df['levels'] = np.where(df['levels'] =='ms', 'master', df['levels'])\n",
    "df['levels'] = np.where(df['levels'] =='ms-phd', 'master-phd', df['levels'])\n",
    "df['levels'] = np.where(df['levels'] =='phd-ms', 'master-phd', df['levels'])\n",
    "df['levels'] = np.where(df['levels'] =='ms-manager', 'manager', df['levels'])\n",
    "df['levels'] = np.where(df['levels'] =='manager-ms', 'manager', df['levels'])\n",
    "df['levels'] = np.where(df['levels'] =='senior-ms', 'senior', df['levels'])\n",
    "df['levels'] = np.where(df['levels'] =='sr.-consultant', 'senior', df['levels'])"
   ]
  },
  {
   "cell_type": "code",
   "execution_count": 26,
   "metadata": {
    "collapsed": true
   },
   "outputs": [],
   "source": [
    "df['senior'] = df[\n",
    "    'levels'].apply(lambda x: 1 if re.findall('senior',x) else 0)\n",
    "df['junior'] = df[\n",
    "    'levels'].apply(lambda x: 1 if re.findall('junior',x) else 0)\n",
    "df['manager'] = df[\n",
    "    'levels'].apply(lambda x: 1 if re.findall('manager',x) else 0)\n",
    "df['assistant'] = df[\n",
    "    'levels'].apply(lambda x: 1 if re.findall('assistant',x) else 0)\n",
    "df['director'] = df[\n",
    "    'levels'].apply(lambda x: 1 if re.findall('director',x) else 0)\n",
    "df['associate'] = df[\n",
    "    'levels'].apply(lambda x: 1 if re.findall('associate',x) else 0)\n",
    "df['vp'] = df[\n",
    "    'levels'].apply(lambda x: 1 if re.findall('vp',x) else 0)\n",
    "df['master'] = df[\n",
    "    'levels'].apply(lambda x: 1 if re.findall('master',x) else 0)\n",
    "df['phd'] = df[\n",
    "    'levels'].apply(lambda x: 1 if re.findall('phd',x) else 0)"
   ]
  },
  {
   "cell_type": "code",
   "execution_count": 27,
   "metadata": {
    "collapsed": true
   },
   "outputs": [],
   "source": [
    "patterns = ['big.data','bi data','data scien+','analy+','statist+',\n",
    "            'enginee+','deep l+','machine l+','developer','programmer',\n",
    "            'op+','devop+','developm+','gs','natural language processing','nlp','full stack']"
   ]
  },
  {
   "cell_type": "code",
   "execution_count": 28,
   "metadata": {
    "collapsed": true
   },
   "outputs": [],
   "source": [
    "pattern = '(%s)' % '|'.join(patterns)\n",
    "df['words'] = df['summary'].str.findall(pattern)"
   ]
  },
  {
   "cell_type": "code",
   "execution_count": 29,
   "metadata": {
    "collapsed": true
   },
   "outputs": [],
   "source": [
    "df['words_t'] = df['title'].str.findall(pattern)"
   ]
  },
  {
   "cell_type": "code",
   "execution_count": 30,
   "metadata": {
    "collapsed": false
   },
   "outputs": [
    {
     "data": {
      "text/html": [
       "<div>\n",
       "<table border=\"1\" class=\"dataframe\">\n",
       "  <thead>\n",
       "    <tr style=\"text-align: right;\">\n",
       "      <th></th>\n",
       "      <th>city</th>\n",
       "      <th>company</th>\n",
       "      <th>summary</th>\n",
       "      <th>title</th>\n",
       "      <th>parsed_salary</th>\n",
       "      <th>above_107k</th>\n",
       "      <th>language</th>\n",
       "      <th>language_t</th>\n",
       "      <th>levels</th>\n",
       "      <th>senior</th>\n",
       "      <th>junior</th>\n",
       "      <th>manager</th>\n",
       "      <th>assistant</th>\n",
       "      <th>director</th>\n",
       "      <th>associate</th>\n",
       "      <th>vp</th>\n",
       "      <th>master</th>\n",
       "      <th>phd</th>\n",
       "      <th>words</th>\n",
       "      <th>words_t</th>\n",
       "    </tr>\n",
       "  </thead>\n",
       "  <tbody>\n",
       "    <tr>\n",
       "      <th>0</th>\n",
       "      <td>Denver</td>\n",
       "      <td>Department Of The Interior</td>\n",
       "      <td>would you like to join the more than 10 000 sc...</td>\n",
       "      <td>statistician  gs-1350-12  deu-perm-ds</td>\n",
       "      <td>87792.0</td>\n",
       "      <td>0</td>\n",
       "      <td>[]</td>\n",
       "      <td>[]</td>\n",
       "      <td></td>\n",
       "      <td>0</td>\n",
       "      <td>0</td>\n",
       "      <td>0</td>\n",
       "      <td>0</td>\n",
       "      <td>0</td>\n",
       "      <td>0</td>\n",
       "      <td>0</td>\n",
       "      <td>0</td>\n",
       "      <td>0</td>\n",
       "      <td>[gs]</td>\n",
       "      <td>[statist, gs]</td>\n",
       "    </tr>\n",
       "    <tr>\n",
       "      <th>1</th>\n",
       "      <td>Denver</td>\n",
       "      <td>Department Of The Interior</td>\n",
       "      <td>investigate potential uses of geospatial data ...</td>\n",
       "      <td>interdisciplinary cartographer geographer - gs...</td>\n",
       "      <td>85127.5</td>\n",
       "      <td>0</td>\n",
       "      <td>[geospatial]</td>\n",
       "      <td>[]</td>\n",
       "      <td></td>\n",
       "      <td>0</td>\n",
       "      <td>0</td>\n",
       "      <td>0</td>\n",
       "      <td>0</td>\n",
       "      <td>0</td>\n",
       "      <td>0</td>\n",
       "      <td>0</td>\n",
       "      <td>0</td>\n",
       "      <td>0</td>\n",
       "      <td>[op]</td>\n",
       "      <td>[gs]</td>\n",
       "    </tr>\n",
       "  </tbody>\n",
       "</table>\n",
       "</div>"
      ],
      "text/plain": [
       "     city                     company  \\\n",
       "0  Denver  Department Of The Interior   \n",
       "1  Denver  Department Of The Interior   \n",
       "\n",
       "                                             summary  \\\n",
       "0  would you like to join the more than 10 000 sc...   \n",
       "1  investigate potential uses of geospatial data ...   \n",
       "\n",
       "                                               title  parsed_salary  \\\n",
       "0              statistician  gs-1350-12  deu-perm-ds        87792.0   \n",
       "1  interdisciplinary cartographer geographer - gs...        85127.5   \n",
       "\n",
       "   above_107k      language language_t levels  senior  junior  manager  \\\n",
       "0           0            []         []              0       0        0   \n",
       "1           0  [geospatial]         []              0       0        0   \n",
       "\n",
       "   assistant  director  associate  vp  master  phd words        words_t  \n",
       "0          0         0          0   0       0    0  [gs]  [statist, gs]  \n",
       "1          0         0          0   0       0    0  [op]           [gs]  "
      ]
     },
     "execution_count": 30,
     "metadata": {},
     "output_type": "execute_result"
    }
   ],
   "source": [
    "df.head(2)"
   ]
  },
  {
   "cell_type": "code",
   "execution_count": 31,
   "metadata": {
    "collapsed": false
   },
   "outputs": [],
   "source": [
    "df['words'] = df['words'] + df['words_t']\n",
    "df['language'] = df['language'] + df['language_t']\n",
    "df['words'] = df['language'] + df['words']"
   ]
  },
  {
   "cell_type": "code",
   "execution_count": 32,
   "metadata": {
    "collapsed": false
   },
   "outputs": [],
   "source": [
    "df['words'] = df['words'].str.join(' ')"
   ]
  },
  {
   "cell_type": "code",
   "execution_count": 33,
   "metadata": {
    "collapsed": false
   },
   "outputs": [],
   "source": [
    "df.drop(['language_t','words_t','language'],axis=1,inplace=True)"
   ]
  },
  {
   "cell_type": "code",
   "execution_count": 34,
   "metadata": {
    "collapsed": false
   },
   "outputs": [],
   "source": [
    "big_data = ['big.data','bi data']\n",
    "pattern = '(%s)' % '|'.join(big_data)\n",
    "\n",
    "df['big_data'] = df['words'].apply(lambda x: 1 if re.findall(pattern,x) else 0)\n",
    "df['data_scientist'] = df['words'].apply(lambda x: 1 if re.findall('data scien+',x) else 0)\n",
    "df['analyst'] = df['words'].apply(lambda x: 1 if re.findall('analy+',x) else 0)\n",
    "df['statistic'] = df['words'].apply(lambda x: 1 if re.findall('statist+',x) else 0)\n",
    "df['engineer'] = df['words'].apply(lambda x: 1 if re.findall('enginee+',x) else 0)\n",
    "df['deep_learning'] = df['words'].apply(lambda x: 1 if re.findall('deep l+',x) else 0)\n",
    "df['machine_learning'] = df[\n",
    "    'words'].apply(lambda x: 1 if re.findall('machine l+',x) else 0)\n",
    "df['developer'] = df[\n",
    "    'words'].apply(lambda x: 1 if re.findall('developer',x) else 0)\n",
    "df['programmer'] = df[\n",
    "    'words'].apply(lambda x: 1 if re.findall('programmer',x) else 0)\n",
    "df['operations'] = df[\n",
    "    'words'].apply(lambda x: 1 if re.findall('op+',x) else 0)\n",
    "df['devops'] = df[\n",
    "    'words'].apply(lambda x: 1 if re.findall('devop+',x) else 0)\n",
    "df['development'] = df[\n",
    "    'words'].apply(lambda x: 1 if re.findall('developm+',x) else 0)\n",
    "df['government'] = df[\n",
    "    'words'].apply(lambda x: 1 if re.findall('gs',x) else 0)\n",
    "df['nlp'] = df[\n",
    "    'words'].apply(lambda x: 1 if re.findall('natural language processing|nlp',x) else 0)\n",
    "df['full_stack'] = df[\n",
    "    'words'].apply(lambda x: 1 if re.findall('full stack',x) else 0)\n",
    "df['r'] = df[\n",
    "    'words'].apply(lambda x: 1 if re.findall('r',x) else 0)\n",
    "df['sql'] = df[\n",
    "    'words'].apply(lambda x: 1 if re.findall('sql',x) else 0)\n",
    "df['python'] = df[\n",
    "    'words'].apply(lambda x: 1 if re.findall('python',x) else 0)\n",
    "df['ml'] = df[\n",
    "    'words'].apply(lambda x: 1 if re.findall('ml',x) else 0)\n",
    "df['c++'] = df[\n",
    "    'words'].apply(lambda x: 1 if re.findall('c',x) else 0)\n",
    "df['algorithm'] = df[\n",
    "    'words'].apply(lambda x: 1 if re.findall('algorithms|algorithm|algo',x) else 0)\n",
    "df['mysql'] = df[\n",
    "    'words'].apply(lambda x: 1 if re.findall('mysql',x) else 0)\n",
    "df['javascript'] = df[\n",
    "    'words'].apply(lambda x: 1 if re.findall('js|javascript',x) else 0)\n",
    "df['erlang'] = df[\n",
    "    'words'].apply(lambda x: 1 if re.findall('erlang',x) else 0)\n",
    "df['impala'] = df[\n",
    "    'words'].apply(lambda x: 1 if re.findall('impala',x) else 0)\n",
    "df['geospatial'] = df[\n",
    "    'words'].apply(lambda x: 1 if re.findall('geospatial',x) else 0)\n",
    "df['hadoop'] = df[\n",
    "    'words'].apply(lambda x: 1 if re.findall('hadoop',x) else 0)\n",
    "df['sas'] = df[\n",
    "    'words'].apply(lambda x: 1 if re.findall('sas',x) else 0)\n",
    "df['java'] = df[\n",
    "    'words'].apply(lambda x: 1 if re.findall('java',x) else 0)\n",
    "df['hive'] = df[\n",
    "    'words'].apply(lambda x: 1 if re.findall('hive',x) else 0)\n",
    "df['matlab'] = df[\n",
    "    'words'].apply(lambda x: 1 if re.findall('matlab',x) else 0)\n",
    "df['pig'] = df[\n",
    "    'words'].apply(lambda x: 1 if re.findall('pig',x) else 0)\n",
    "df['spss'] = df[\n",
    "    'words'].apply(lambda x: 1 if re.findall('spss',x) else 0)\n",
    "df['cloud'] = df[\n",
    "    'words'].apply(lambda x: 1 if re.findall('cloud',x) else 0)\n",
    "df['scala'] = df[\n",
    "    'words'].apply(lambda x: 1 if re.findall('scala',x) else 0)\n",
    "df['unix'] = df[\n",
    "    'words'].apply(lambda x: 1 if re.findall('unix',x) else 0)\n",
    "df['cnup'] = df[\n",
    "    'words'].apply(lambda x: 1 if re.findall('cnup',x) else 0)\n",
    "df['aws'] = df[\n",
    "    'words'].apply(lambda x: 1 if re.findall('aws',x) else 0)\n",
    "df['spark'] = df[\n",
    "    'words'].apply(lambda x: 1 if re.findall('spark',x) else 0)\n",
    "df['cassandra'] = df[\n",
    "    'words'].apply(lambda x: 1 if re.findall('cassandra',x) else 0)\n",
    "df['svp'] = df[\n",
    "    'words'].apply(lambda x: 1 if re.findall('svp',x) else 0)\n",
    "df['tableau'] = df[\n",
    "    'words'].apply(lambda x: 1 if re.findall('tableau',x) else 0)\n",
    "df['api'] = df[\n",
    "    'words'].apply(lambda x: 1 if re.findall('api',x) else 0)\n",
    "df['linux'] = df[\n",
    "    'words'].apply(lambda x: 1 if re.findall('linux',x) else 0)\n",
    "df['excel'] = df[\n",
    "    'words'].apply(lambda x: 1 if re.findall('excel',x) else 0)\n",
    "df['ruby'] = df[\n",
    "    'words'].apply(lambda x: 1 if re.findall('ruby',x) else 0)"
   ]
  },
  {
   "cell_type": "code",
   "execution_count": 35,
   "metadata": {
    "collapsed": false
   },
   "outputs": [],
   "source": [
    "city_df = pd.get_dummies(df['city'])"
   ]
  },
  {
   "cell_type": "markdown",
   "metadata": {
    "focus": false,
    "id": "a7afb2c0-d41e-4779-8216-91cd8dd4473f"
   },
   "source": [
    "#### Thought experiment: What is the baseline accuracy for this model?"
   ]
  },
  {
   "cell_type": "code",
   "execution_count": 36,
   "metadata": {
    "collapsed": false
   },
   "outputs": [],
   "source": [
    "base_accuracy = 1.0 - df['above_107k'].mean()"
   ]
  },
  {
   "cell_type": "code",
   "execution_count": 37,
   "metadata": {
    "collapsed": false
   },
   "outputs": [],
   "source": [
    "level_df = df[['senior','junior','manager','assistant','director',\n",
    "               'associate','vp','master','phd','above_107k']]\n",
    "level_corr = level_df.corr()"
   ]
  },
  {
   "cell_type": "code",
   "execution_count": 38,
   "metadata": {
    "collapsed": false,
    "focus": false,
    "id": "87a17d3d-b7f4-4747-9f75-f9af1d18a174"
   },
   "outputs": [
    {
     "data": {
      "image/png": "[encoded data removed]",
      "text/plain": [
       "<matplotlib.figure.Figure at 0x114c07e10>"
      ]
     },
     "metadata": {},
     "output_type": "display_data"
    }
   ],
   "source": [
    "fig = plt.figure(figsize=(20,10))\n",
    "\n",
    "# Generate a mask for the upper triangle (taken from seaborn example gallery)\n",
    "mask = np.zeros_like(level_corr, dtype=np.bool)\n",
    "mask[np.triu_indices_from(mask)] = True\n",
    "\n",
    "# Plot the heatmap with seaborn.\n",
    "# Assign the matplotlib axis the function returns. This will let us resize the labels.\n",
    "ax = sns.heatmap(level_corr, mask=mask, annot=True)\n",
    "\n",
    "# Resize the labels.\n",
    "ax.set_xticklabels(ax.xaxis.get_ticklabels(), fontsize=20)\n",
    "ax.set_yticklabels(ax.yaxis.get_ticklabels(), fontsize=20, \n",
    "                   rotation='horizontal')\n",
    "\n",
    "# If you put plt.show() at the bottom, it prevents those useless printouts from matplotlib.\n",
    "plt.show()"
   ]
  },
  {
   "cell_type": "code",
   "execution_count": 39,
   "metadata": {
    "collapsed": false
   },
   "outputs": [
    {
     "data": {
      "text/plain": [
       "city           company                                    \n",
       "Atlanta        Amana Academy Charter School                    34999.5\n",
       "               CSTE                                            54182.0\n",
       "               Centers for Disease Control and Prevention     141158.0\n",
       "               Emory University                                56200.0\n",
       "               Ga. Dept. of Admin. Services                    41000.0\n",
       "               JVI                                             55000.0\n",
       "               Principle Solutions Group                       80000.0\n",
       "               Selby Jennings                                 212500.0\n",
       "               Smith Hanley Associates                         87500.0\n",
       "               Synergy Search Group                            80000.0\n",
       "               Velossent                                      160000.0\n",
       "               Wismettac Asian Foods, Inc.                     50794.0\n",
       "               firstPRO                                       120000.0\n",
       "Austin         All-In Analytics                               150000.0\n",
       "               Emoters Robotics                                85000.0\n",
       "               JE Compliance                                   41000.0\n",
       "               Myriad Development                              35000.0\n",
       "               Providence Partners                             65000.0\n",
       "               Roland & Associates                            160000.0\n",
       "               TechTank Staffing & Consulting Solutions       140000.0\n",
       "Boston         3coast                                         140000.0\n",
       "               A&A Seach                                      100000.0\n",
       "               Analytic Recruiting                            110000.0\n",
       "               Apptopia Inc                                   100000.0\n",
       "               Bivium Group                                   125000.0\n",
       "               Boston Redevelopment Authority                  63000.0\n",
       "               Department Of Labor                             50402.0\n",
       "               Department Of Veterans Affairs                 106317.5\n",
       "               Execu | Search                                 130000.0\n",
       "               Fanning Personnel                              102500.0\n",
       "                                                                ...   \n",
       "San+Francisco  Corporate Labs Technology                      145000.0\n",
       "               Engage Recruiting LLC                          145000.0\n",
       "               Global Placement Firm                          155000.0\n",
       "               HSF Consulting                                 300000.0\n",
       "               Jobspring Partners                             227500.0\n",
       "               LT                                             200000.0\n",
       "               Lighthouse Recruiting                           85000.0\n",
       "               MarkMonitor                                    180000.0\n",
       "               Mines.io                                       100000.0\n",
       "               NJF Search                                     200000.0\n",
       "               NextGen Jane, Inc.                              65000.0\n",
       "               Oakland Unified School District                 84649.0\n",
       "               San Francisco State University                  21294.5\n",
       "               Selby Jennings                                 160000.0\n",
       "               Smith Hanley Associates                        160000.0\n",
       "               Talent Compliance Consulting Services          100000.0\n",
       "               University of California Berkeley               74550.0\n",
       "               Workbridge Associates                          180000.0\n",
       "Seattle        All-In Analytics                               190000.0\n",
       "               Department Of Veterans Affairs                  87313.5\n",
       "               Department of the Navy                          44293.5\n",
       "               Harvey Nash USA                                135000.0\n",
       "               Job Brokers, Inc.                               80000.0\n",
       "               King County                                     81078.0\n",
       "               Pullskill Technologies                         120000.0\n",
       "               Rakuten, Inc.                                  140000.0\n",
       "               Seattle Pacific University                      82500.0\n",
       "               State of Washington                             71592.0\n",
       "               University of Washington School of Medicine     40000.0\n",
       "               Washington State Government                     71592.0\n",
       "Name: parsed_salary, dtype: float64"
      ]
     },
     "execution_count": 39,
     "metadata": {},
     "output_type": "execute_result"
    }
   ],
   "source": [
    "df.groupby(['city','company'])['parsed_salary'].max()"
   ]
  },
  {
   "cell_type": "code",
   "execution_count": 40,
   "metadata": {
    "collapsed": false
   },
   "outputs": [
    {
     "data": {
      "text/html": [
       "<div>\n",
       "<table border=\"1\" class=\"dataframe\">\n",
       "  <thead>\n",
       "    <tr style=\"text-align: right;\">\n",
       "      <th></th>\n",
       "      <th>company</th>\n",
       "      <th>parsed_salary</th>\n",
       "    </tr>\n",
       "    <tr>\n",
       "      <th>city</th>\n",
       "      <th></th>\n",
       "      <th></th>\n",
       "    </tr>\n",
       "  </thead>\n",
       "  <tbody>\n",
       "    <tr>\n",
       "      <th>Atlanta</th>\n",
       "      <td>firstPRO</td>\n",
       "      <td>212500.0</td>\n",
       "    </tr>\n",
       "    <tr>\n",
       "      <th>Austin</th>\n",
       "      <td>TechTank Staffing &amp; Consulting Solutions</td>\n",
       "      <td>160000.0</td>\n",
       "    </tr>\n",
       "    <tr>\n",
       "      <th>Boston</th>\n",
       "      <td>Zachary Piper, LLC</td>\n",
       "      <td>240000.0</td>\n",
       "    </tr>\n",
       "    <tr>\n",
       "      <th>Chicago</th>\n",
       "      <td>Workbridge Associates</td>\n",
       "      <td>200000.0</td>\n",
       "    </tr>\n",
       "    <tr>\n",
       "      <th>Dallas</th>\n",
       "      <td>Workbridge Associates</td>\n",
       "      <td>165000.0</td>\n",
       "    </tr>\n",
       "    <tr>\n",
       "      <th>Denver</th>\n",
       "      <td>University of Colorado</td>\n",
       "      <td>170000.0</td>\n",
       "    </tr>\n",
       "    <tr>\n",
       "      <th>Houston</th>\n",
       "      <td>Texas A&amp;M University</td>\n",
       "      <td>93431.0</td>\n",
       "    </tr>\n",
       "    <tr>\n",
       "      <th>Los+Angeles</th>\n",
       "      <td>Selby Jennings</td>\n",
       "      <td>200000.0</td>\n",
       "    </tr>\n",
       "    <tr>\n",
       "      <th>Miami</th>\n",
       "      <td>University of Miami</td>\n",
       "      <td>107500.0</td>\n",
       "    </tr>\n",
       "    <tr>\n",
       "      <th>New+York</th>\n",
       "      <td>ingenium</td>\n",
       "      <td>250000.0</td>\n",
       "    </tr>\n",
       "    <tr>\n",
       "      <th>Palo+Alto</th>\n",
       "      <td>Zamplus Technology</td>\n",
       "      <td>170000.0</td>\n",
       "    </tr>\n",
       "    <tr>\n",
       "      <th>Philadelphia</th>\n",
       "      <td>The McManness Group</td>\n",
       "      <td>150000.0</td>\n",
       "    </tr>\n",
       "    <tr>\n",
       "      <th>Phoenix</th>\n",
       "      <td>The University of Arizona</td>\n",
       "      <td>95000.0</td>\n",
       "    </tr>\n",
       "    <tr>\n",
       "      <th>Pittsburgh</th>\n",
       "      <td>The University of Pittsburgh</td>\n",
       "      <td>60528.0</td>\n",
       "    </tr>\n",
       "    <tr>\n",
       "      <th>Portland</th>\n",
       "      <td>Multnomah County, OR</td>\n",
       "      <td>78195.5</td>\n",
       "    </tr>\n",
       "    <tr>\n",
       "      <th>San+Diego</th>\n",
       "      <td>Voyant Advisors</td>\n",
       "      <td>160000.0</td>\n",
       "    </tr>\n",
       "    <tr>\n",
       "      <th>San+Francisco</th>\n",
       "      <td>Workbridge Associates</td>\n",
       "      <td>300000.0</td>\n",
       "    </tr>\n",
       "    <tr>\n",
       "      <th>Seattle</th>\n",
       "      <td>Washington State Government</td>\n",
       "      <td>190000.0</td>\n",
       "    </tr>\n",
       "  </tbody>\n",
       "</table>\n",
       "</div>"
      ],
      "text/plain": [
       "                                                company  parsed_salary\n",
       "city                                                                  \n",
       "Atlanta                                        firstPRO       212500.0\n",
       "Austin         TechTank Staffing & Consulting Solutions       160000.0\n",
       "Boston                               Zachary Piper, LLC       240000.0\n",
       "Chicago                           Workbridge Associates       200000.0\n",
       "Dallas                            Workbridge Associates       165000.0\n",
       "Denver                           University of Colorado       170000.0\n",
       "Houston                            Texas A&M University        93431.0\n",
       "Los+Angeles                              Selby Jennings       200000.0\n",
       "Miami                               University of Miami       107500.0\n",
       "New+York                                       ingenium       250000.0\n",
       "Palo+Alto                            Zamplus Technology       170000.0\n",
       "Philadelphia                        The McManness Group       150000.0\n",
       "Phoenix                       The University of Arizona        95000.0\n",
       "Pittsburgh                 The University of Pittsburgh        60528.0\n",
       "Portland                           Multnomah County, OR        78195.5\n",
       "San+Diego                               Voyant Advisors       160000.0\n",
       "San+Francisco                     Workbridge Associates       300000.0\n",
       "Seattle                     Washington State Government       190000.0"
      ]
     },
     "execution_count": 40,
     "metadata": {},
     "output_type": "execute_result"
    }
   ],
   "source": [
    "df.pivot_table(values=['company','parsed_salary'],index=['city'],aggfunc='max')"
   ]
  },
  {
   "cell_type": "code",
   "execution_count": 41,
   "metadata": {
    "collapsed": false
   },
   "outputs": [
    {
     "data": {
      "text/html": [
       "<div>\n",
       "<table border=\"1\" class=\"dataframe\">\n",
       "  <thead>\n",
       "    <tr style=\"text-align: right;\">\n",
       "      <th></th>\n",
       "      <th>parsed_salary</th>\n",
       "      <th>above_107k</th>\n",
       "      <th>senior</th>\n",
       "      <th>junior</th>\n",
       "      <th>manager</th>\n",
       "      <th>assistant</th>\n",
       "      <th>director</th>\n",
       "      <th>associate</th>\n",
       "      <th>vp</th>\n",
       "      <th>master</th>\n",
       "      <th>...</th>\n",
       "      <th>cnup</th>\n",
       "      <th>aws</th>\n",
       "      <th>spark</th>\n",
       "      <th>cassandra</th>\n",
       "      <th>svp</th>\n",
       "      <th>tableau</th>\n",
       "      <th>api</th>\n",
       "      <th>linux</th>\n",
       "      <th>excel</th>\n",
       "      <th>ruby</th>\n",
       "    </tr>\n",
       "  </thead>\n",
       "  <tbody>\n",
       "    <tr>\n",
       "      <th>count</th>\n",
       "      <td>406.000000</td>\n",
       "      <td>406.000000</td>\n",
       "      <td>406.000000</td>\n",
       "      <td>406.000000</td>\n",
       "      <td>406.000000</td>\n",
       "      <td>406.000000</td>\n",
       "      <td>406.00000</td>\n",
       "      <td>406.000000</td>\n",
       "      <td>406.000000</td>\n",
       "      <td>406.000000</td>\n",
       "      <td>...</td>\n",
       "      <td>406.000000</td>\n",
       "      <td>406.000000</td>\n",
       "      <td>406.000000</td>\n",
       "      <td>406.000000</td>\n",
       "      <td>406.000000</td>\n",
       "      <td>406.000000</td>\n",
       "      <td>406.000000</td>\n",
       "      <td>406.000000</td>\n",
       "      <td>406.000000</td>\n",
       "      <td>406.000000</td>\n",
       "    </tr>\n",
       "    <tr>\n",
       "      <th>mean</th>\n",
       "      <td>107762.695813</td>\n",
       "      <td>0.465517</td>\n",
       "      <td>0.174877</td>\n",
       "      <td>0.041872</td>\n",
       "      <td>0.061576</td>\n",
       "      <td>0.044335</td>\n",
       "      <td>0.03202</td>\n",
       "      <td>0.009852</td>\n",
       "      <td>0.019704</td>\n",
       "      <td>0.017241</td>\n",
       "      <td>...</td>\n",
       "      <td>0.002463</td>\n",
       "      <td>0.007389</td>\n",
       "      <td>0.017241</td>\n",
       "      <td>0.002463</td>\n",
       "      <td>0.002463</td>\n",
       "      <td>0.004926</td>\n",
       "      <td>0.002463</td>\n",
       "      <td>0.009852</td>\n",
       "      <td>0.009852</td>\n",
       "      <td>0.002463</td>\n",
       "    </tr>\n",
       "    <tr>\n",
       "      <th>std</th>\n",
       "      <td>48931.367632</td>\n",
       "      <td>0.499425</td>\n",
       "      <td>0.380330</td>\n",
       "      <td>0.200544</td>\n",
       "      <td>0.240681</td>\n",
       "      <td>0.206092</td>\n",
       "      <td>0.17627</td>\n",
       "      <td>0.098890</td>\n",
       "      <td>0.139154</td>\n",
       "      <td>0.130330</td>\n",
       "      <td>...</td>\n",
       "      <td>0.049629</td>\n",
       "      <td>0.085748</td>\n",
       "      <td>0.130330</td>\n",
       "      <td>0.049629</td>\n",
       "      <td>0.049629</td>\n",
       "      <td>0.070100</td>\n",
       "      <td>0.049629</td>\n",
       "      <td>0.098890</td>\n",
       "      <td>0.098890</td>\n",
       "      <td>0.049629</td>\n",
       "    </tr>\n",
       "    <tr>\n",
       "      <th>min</th>\n",
       "      <td>10000.000000</td>\n",
       "      <td>0.000000</td>\n",
       "      <td>0.000000</td>\n",
       "      <td>0.000000</td>\n",
       "      <td>0.000000</td>\n",
       "      <td>0.000000</td>\n",
       "      <td>0.00000</td>\n",
       "      <td>0.000000</td>\n",
       "      <td>0.000000</td>\n",
       "      <td>0.000000</td>\n",
       "      <td>...</td>\n",
       "      <td>0.000000</td>\n",
       "      <td>0.000000</td>\n",
       "      <td>0.000000</td>\n",
       "      <td>0.000000</td>\n",
       "      <td>0.000000</td>\n",
       "      <td>0.000000</td>\n",
       "      <td>0.000000</td>\n",
       "      <td>0.000000</td>\n",
       "      <td>0.000000</td>\n",
       "      <td>0.000000</td>\n",
       "    </tr>\n",
       "    <tr>\n",
       "      <th>25%</th>\n",
       "      <td>70000.000000</td>\n",
       "      <td>0.000000</td>\n",
       "      <td>0.000000</td>\n",
       "      <td>0.000000</td>\n",
       "      <td>0.000000</td>\n",
       "      <td>0.000000</td>\n",
       "      <td>0.00000</td>\n",
       "      <td>0.000000</td>\n",
       "      <td>0.000000</td>\n",
       "      <td>0.000000</td>\n",
       "      <td>...</td>\n",
       "      <td>0.000000</td>\n",
       "      <td>0.000000</td>\n",
       "      <td>0.000000</td>\n",
       "      <td>0.000000</td>\n",
       "      <td>0.000000</td>\n",
       "      <td>0.000000</td>\n",
       "      <td>0.000000</td>\n",
       "      <td>0.000000</td>\n",
       "      <td>0.000000</td>\n",
       "      <td>0.000000</td>\n",
       "    </tr>\n",
       "    <tr>\n",
       "      <th>50%</th>\n",
       "      <td>100000.000000</td>\n",
       "      <td>0.000000</td>\n",
       "      <td>0.000000</td>\n",
       "      <td>0.000000</td>\n",
       "      <td>0.000000</td>\n",
       "      <td>0.000000</td>\n",
       "      <td>0.00000</td>\n",
       "      <td>0.000000</td>\n",
       "      <td>0.000000</td>\n",
       "      <td>0.000000</td>\n",
       "      <td>...</td>\n",
       "      <td>0.000000</td>\n",
       "      <td>0.000000</td>\n",
       "      <td>0.000000</td>\n",
       "      <td>0.000000</td>\n",
       "      <td>0.000000</td>\n",
       "      <td>0.000000</td>\n",
       "      <td>0.000000</td>\n",
       "      <td>0.000000</td>\n",
       "      <td>0.000000</td>\n",
       "      <td>0.000000</td>\n",
       "    </tr>\n",
       "    <tr>\n",
       "      <th>75%</th>\n",
       "      <td>142164.500000</td>\n",
       "      <td>1.000000</td>\n",
       "      <td>0.000000</td>\n",
       "      <td>0.000000</td>\n",
       "      <td>0.000000</td>\n",
       "      <td>0.000000</td>\n",
       "      <td>0.00000</td>\n",
       "      <td>0.000000</td>\n",
       "      <td>0.000000</td>\n",
       "      <td>0.000000</td>\n",
       "      <td>...</td>\n",
       "      <td>0.000000</td>\n",
       "      <td>0.000000</td>\n",
       "      <td>0.000000</td>\n",
       "      <td>0.000000</td>\n",
       "      <td>0.000000</td>\n",
       "      <td>0.000000</td>\n",
       "      <td>0.000000</td>\n",
       "      <td>0.000000</td>\n",
       "      <td>0.000000</td>\n",
       "      <td>0.000000</td>\n",
       "    </tr>\n",
       "    <tr>\n",
       "      <th>max</th>\n",
       "      <td>300000.000000</td>\n",
       "      <td>1.000000</td>\n",
       "      <td>1.000000</td>\n",
       "      <td>1.000000</td>\n",
       "      <td>1.000000</td>\n",
       "      <td>1.000000</td>\n",
       "      <td>1.00000</td>\n",
       "      <td>1.000000</td>\n",
       "      <td>1.000000</td>\n",
       "      <td>1.000000</td>\n",
       "      <td>...</td>\n",
       "      <td>1.000000</td>\n",
       "      <td>1.000000</td>\n",
       "      <td>1.000000</td>\n",
       "      <td>1.000000</td>\n",
       "      <td>1.000000</td>\n",
       "      <td>1.000000</td>\n",
       "      <td>1.000000</td>\n",
       "      <td>1.000000</td>\n",
       "      <td>1.000000</td>\n",
       "      <td>1.000000</td>\n",
       "    </tr>\n",
       "  </tbody>\n",
       "</table>\n",
       "<p>8 rows × 57 columns</p>\n",
       "</div>"
      ],
      "text/plain": [
       "       parsed_salary  above_107k      senior      junior     manager  \\\n",
       "count     406.000000  406.000000  406.000000  406.000000  406.000000   \n",
       "mean   107762.695813    0.465517    0.174877    0.041872    0.061576   \n",
       "std     48931.367632    0.499425    0.380330    0.200544    0.240681   \n",
       "min     10000.000000    0.000000    0.000000    0.000000    0.000000   \n",
       "25%     70000.000000    0.000000    0.000000    0.000000    0.000000   \n",
       "50%    100000.000000    0.000000    0.000000    0.000000    0.000000   \n",
       "75%    142164.500000    1.000000    0.000000    0.000000    0.000000   \n",
       "max    300000.000000    1.000000    1.000000    1.000000    1.000000   \n",
       "\n",
       "        assistant   director   associate          vp      master     ...      \\\n",
       "count  406.000000  406.00000  406.000000  406.000000  406.000000     ...       \n",
       "mean     0.044335    0.03202    0.009852    0.019704    0.017241     ...       \n",
       "std      0.206092    0.17627    0.098890    0.139154    0.130330     ...       \n",
       "min      0.000000    0.00000    0.000000    0.000000    0.000000     ...       \n",
       "25%      0.000000    0.00000    0.000000    0.000000    0.000000     ...       \n",
       "50%      0.000000    0.00000    0.000000    0.000000    0.000000     ...       \n",
       "75%      0.000000    0.00000    0.000000    0.000000    0.000000     ...       \n",
       "max      1.000000    1.00000    1.000000    1.000000    1.000000     ...       \n",
       "\n",
       "             cnup         aws       spark   cassandra         svp     tableau  \\\n",
       "count  406.000000  406.000000  406.000000  406.000000  406.000000  406.000000   \n",
       "mean     0.002463    0.007389    0.017241    0.002463    0.002463    0.004926   \n",
       "std      0.049629    0.085748    0.130330    0.049629    0.049629    0.070100   \n",
       "min      0.000000    0.000000    0.000000    0.000000    0.000000    0.000000   \n",
       "25%      0.000000    0.000000    0.000000    0.000000    0.000000    0.000000   \n",
       "50%      0.000000    0.000000    0.000000    0.000000    0.000000    0.000000   \n",
       "75%      0.000000    0.000000    0.000000    0.000000    0.000000    0.000000   \n",
       "max      1.000000    1.000000    1.000000    1.000000    1.000000    1.000000   \n",
       "\n",
       "              api       linux       excel        ruby  \n",
       "count  406.000000  406.000000  406.000000  406.000000  \n",
       "mean     0.002463    0.009852    0.009852    0.002463  \n",
       "std      0.049629    0.098890    0.098890    0.049629  \n",
       "min      0.000000    0.000000    0.000000    0.000000  \n",
       "25%      0.000000    0.000000    0.000000    0.000000  \n",
       "50%      0.000000    0.000000    0.000000    0.000000  \n",
       "75%      0.000000    0.000000    0.000000    0.000000  \n",
       "max      1.000000    1.000000    1.000000    1.000000  \n",
       "\n",
       "[8 rows x 57 columns]"
      ]
     },
     "execution_count": 41,
     "metadata": {},
     "output_type": "execute_result"
    }
   ],
   "source": [
    "df.describe()"
   ]
  },
  {
   "cell_type": "code",
   "execution_count": 42,
   "metadata": {
    "collapsed": false
   },
   "outputs": [
    {
     "data": {
      "image/png": "[encoded data removed]",
      "text/plain": [
       "<matplotlib.figure.Figure at 0x117c05d90>"
      ]
     },
     "metadata": {},
     "output_type": "display_data"
    }
   ],
   "source": [
    "fig = plt.figure(figsize=(12,5))\n",
    "\n",
    "sns.set_style(\"whitegrid\")\n",
    "ax = sns.boxplot(x=df[\"parsed_salary\"])\n",
    "plt.show()"
   ]
  },
  {
   "cell_type": "code",
   "execution_count": 43,
   "metadata": {
    "collapsed": false
   },
   "outputs": [
    {
     "data": {
      "image/png": "[encoded data removed]",
      "text/plain": [
       "<matplotlib.figure.Figure at 0x114be2b50>"
      ]
     },
     "metadata": {},
     "output_type": "display_data"
    }
   ],
   "source": [
    "fig = plt.figure(figsize=(20,10))\n",
    "ax = sns.boxplot(x=\"city\", y=\"parsed_salary\", data=df)\n"
   ]
  },
  {
   "cell_type": "code",
   "execution_count": 44,
   "metadata": {
    "collapsed": false
   },
   "outputs": [
    {
     "data": {
      "text/plain": [
       "<matplotlib.axes._subplots.AxesSubplot at 0x117b8ce90>"
      ]
     },
     "execution_count": 44,
     "metadata": {},
     "output_type": "execute_result"
    },
    {
     "data": {
      "image/png": "[encoded data removed]",
      "text/plain": [
       "<matplotlib.figure.Figure at 0x117c35b50>"
      ]
     },
     "metadata": {},
     "output_type": "display_data"
    }
   ],
   "source": [
    "fig = plt.figure(figsize=(20,5))\n",
    "\n",
    "fig.add_subplot(131)\n",
    "sns.swarmplot(x='data_scientist', \n",
    "              y='parsed_salary',\n",
    "              data=df)\n",
    "                            \n",
    "fig.add_subplot(132)\n",
    "sns.swarmplot(x='analyst', \n",
    "              y='parsed_salary',\n",
    "              data=df)\n",
    "                            \n",
    "fig.add_subplot(133)\n",
    "sns.swarmplot(x='nlp', \n",
    "              y='parsed_salary',\n",
    "              data=df)                          "
   ]
  },
  {
   "cell_type": "markdown",
   "metadata": {
    "focus": false,
    "id": "4fb29de2-5b98-474c-a4ad-5170b72b9aea"
   },
   "source": [
    "#### Create a Logistic Regression model to predict High/Low salary using statsmodel. Start by ONLY using the location as a feature. Display the coefficients and write a short summary of what they mean."
   ]
  },
  {
   "cell_type": "code",
   "execution_count": 45,
   "metadata": {
    "collapsed": false,
    "focus": false,
    "id": "ddbc6159-6854-4ca7-857f-bfecdaf6d9c2"
   },
   "outputs": [],
   "source": [
    "y = df['above_107k']\n",
    "X = city_df"
   ]
  },
  {
   "cell_type": "code",
   "execution_count": 46,
   "metadata": {
    "collapsed": false
   },
   "outputs": [
    {
     "name": "stdout",
     "output_type": "stream",
     "text": [
      "Warning: Maximum number of iterations has been exceeded.\n",
      "         Current function value: 0.580944\n",
      "         Iterations: 35\n",
      "                           Logit Regression Results                           \n",
      "==============================================================================\n",
      "Dep. Variable:             above_107k   No. Observations:                  406\n",
      "Model:                          Logit   Df Residuals:                      388\n",
      "Method:                           MLE   Df Model:                           17\n",
      "Date:                Tue, 17 Jan 2017   Pseudo R-squ.:                  0.1590\n",
      "Time:                        08:10:20   Log-Likelihood:                -235.86\n",
      "converged:                      False   LL-Null:                       -280.45\n",
      "                                        LLR p-value:                 8.617e-12\n",
      "=================================================================================\n",
      "                    coef    std err          z      P>|z|      [95.0% Conf. Int.]\n",
      "---------------------------------------------------------------------------------\n",
      "Atlanta          -1.3218      0.563     -2.349      0.019        -2.425    -0.219\n",
      "Austin           -0.2877      0.764     -0.377      0.706        -1.785     1.209\n",
      "Boston            0.3878      0.297      1.305      0.192        -0.195     0.970\n",
      "Chicago           0.2364      0.345      0.684      0.494        -0.441     0.913\n",
      "Dallas           -0.6931      0.612     -1.132      0.258        -1.893     0.507\n",
      "Denver           -2.0149      0.753     -2.677      0.007        -3.490    -0.539\n",
      "Houston         -13.9867    363.115     -0.039      0.969      -725.679   697.706\n",
      "Los+Angeles      -0.0870      0.417     -0.208      0.835        -0.905     0.731\n",
      "Miami           -24.4518   8.33e+04     -0.000      1.000     -1.63e+05  1.63e+05\n",
      "New+York         -0.3973      0.202     -1.967      0.049        -0.793    -0.001\n",
      "Palo+Alto         0.8650      0.421      2.052      0.040         0.039     1.691\n",
      "Philadelphia      0.5596      0.627      0.893      0.372        -0.669     1.788\n",
      "Phoenix         -24.4518   8.33e+04     -0.000      1.000     -1.63e+05  1.63e+05\n",
      "Pittsburgh      -13.9867    363.115     -0.039      0.969      -725.679   697.706\n",
      "Portland        -19.1517   1.44e+04     -0.001      0.999     -2.83e+04  2.82e+04\n",
      "San+Diego        -0.4055      0.645     -0.628      0.530        -1.671     0.860\n",
      "San+Francisco     1.3083      0.356      3.671      0.000         0.610     2.007\n",
      "Seattle           0.1054      0.459      0.229      0.819        -0.795     1.006\n",
      "=================================================================================\n"
     ]
    },
    {
     "name": "stderr",
     "output_type": "stream",
     "text": [
      "/Users/Leyla/anaconda/lib/python2.7/site-packages/statsmodels/base/model.py:466: ConvergenceWarning: Maximum Likelihood optimization failed to converge. Check mle_retvals\n",
      "  \"Check mle_retvals\", ConvergenceWarning)\n"
     ]
    }
   ],
   "source": [
    "import statsmodels.api as sm\n",
    "\n",
    "logit_model = sm.Logit(y,X)\n",
    "result=logit_model.fit()\n",
    "print result.summary()"
   ]
  },
  {
   "cell_type": "code",
   "execution_count": 47,
   "metadata": {
    "collapsed": false
   },
   "outputs": [
    {
     "name": "stdout",
     "output_type": "stream",
     "text": [
      "Atlanta          2.666667e-01\n",
      "Austin           7.500000e-01\n",
      "Boston           1.473684e+00\n",
      "Chicago          1.266667e+00\n",
      "Dallas           5.000000e-01\n",
      "Denver           1.333333e-01\n",
      "Houston          8.426937e-07\n",
      "Los+Angeles      9.166667e-01\n",
      "Miami            2.402700e-11\n",
      "New+York         6.721311e-01\n",
      "Palo+Alto        2.375000e+00\n",
      "Philadelphia     1.750000e+00\n",
      "Phoenix          2.402700e-11\n",
      "Pittsburgh       8.426937e-07\n",
      "Portland         4.814026e-09\n",
      "San+Diego        6.666667e-01\n",
      "San+Francisco    3.700000e+00\n",
      "Seattle          1.111111e+00\n",
      "dtype: float64\n"
     ]
    }
   ],
   "source": [
    "# with a p-value of 8.617e-12 we're confident that there is a corrolation between the \n",
    "# probability of getting a higher salary offer and city; specially Palo Alto with a 0.86 and \n",
    "# San Francisco at 1.3\n",
    "\n",
    "# Odds Ratio\n",
    "print np.exp(result.params)"
   ]
  },
  {
   "cell_type": "code",
   "execution_count": 48,
   "metadata": {
    "collapsed": true
   },
   "outputs": [],
   "source": [
    "# the odds of getting a salary of 107k+ increases 3.7 times in San Francisco"
   ]
  },
  {
   "cell_type": "markdown",
   "metadata": {
    "focus": false,
    "id": "0ef04f32-419c-4bf2-baf7-48201f03df89"
   },
   "source": [
    "#### Create a few new variables in your dataframe to represent interesting features of a job title.\n",
    "- For example, create a feature that represents whether 'Senior' is in the title \n",
    "- or whether 'Manager' is in the title. \n",
    "- Then build a new Logistic Regression model with these features. Do they add any value? \n"
   ]
  },
  {
   "cell_type": "code",
   "execution_count": 49,
   "metadata": {
    "collapsed": false,
    "focus": false,
    "id": "068dc1cf-7fd7-4f27-a1f1-7f0a5a221d29"
   },
   "outputs": [],
   "source": [
    "from sklearn.model_selection import train_test_split\n",
    "from sklearn.linear_model import LogisticRegression\n",
    "from sklearn.preprocessing import StandardScaler\n",
    "\n",
    "\n",
    "y = df['above_107k']\n",
    "X = df[['senior','junior','manager','assistant','director','associate','vp','master','phd']]"
   ]
  },
  {
   "cell_type": "code",
   "execution_count": 50,
   "metadata": {
    "collapsed": false
   },
   "outputs": [
    {
     "name": "stdout",
     "output_type": "stream",
     "text": [
      "('train_score:', 0.63486842105263153, 'test_score:', 0.51960784313725494)\n"
     ]
    }
   ],
   "source": [
    "X_train, X_test, y_train, y_test = train_test_split(X, y, random_state=42)\n",
    "\n",
    "lr = LogisticRegression()\n",
    "\n",
    "scaler = StandardScaler()\n",
    "scaler.fit(X_train)\n",
    "    \n",
    "X_train = scaler.transform(X_train)\n",
    "X_test = scaler.transform(X_test)\n",
    "\n",
    "model = lr.fit(X_train, y_train)\n",
    "train_score = lr.score(X_train, y_train)\n",
    "test_score = lr.score(X_test, y_test)\n",
    "\n",
    "predict = lr.predict_proba(X_test)\n",
    "print('train_score:', train_score, 'test_score:', test_score)"
   ]
  },
  {
   "cell_type": "code",
   "execution_count": 51,
   "metadata": {
    "collapsed": false
   },
   "outputs": [
    {
     "name": "stdout",
     "output_type": "stream",
     "text": [
      "             precision    recall  f1-score   support\n",
      "\n",
      "     senior       0.51      0.78      0.61        50\n",
      "     junior       0.56      0.27      0.36        52\n",
      "\n",
      "avg / total       0.53      0.52      0.49       102\n",
      "\n"
     ]
    }
   ],
   "source": [
    "from sklearn.metrics import classification_report\n",
    "\n",
    "y_true = y_test\n",
    "y_pred = lr.predict(X_test)\n",
    "target_names = ['senior','junior','manager','assistant','director','associate',\n",
    "                'vp','master','phd']\n",
    "\n",
    "print(classification_report(y_true, y_pred, target_names=target_names))"
   ]
  },
  {
   "cell_type": "code",
   "execution_count": 52,
   "metadata": {
    "collapsed": true
   },
   "outputs": [],
   "source": [
    "key_words = ['big_data','data_scientist','analyst','statistic','engineer','deep_learning',\n",
    "              'machine_learning','developer','programmer','operations','devops','development',\n",
    "              'government','nlp','full_stack','r','sql','python','ml','c++','algorithm','mysql',\n",
    "              'javascript','erlang','impala','geospatial','hadoop','sas','java','hive','matlab',\n",
    "              'pig','spss','cloud','scala','unix','cnup','aws','spark','cassandra','svp',\n",
    "              'tableau','api','linux','excel','ruby']"
   ]
  },
  {
   "cell_type": "code",
   "execution_count": 53,
   "metadata": {
    "collapsed": true
   },
   "outputs": [],
   "source": [
    "# Let's try the key words\n",
    "y = df['above_107k']\n",
    "X = df[key_words]"
   ]
  },
  {
   "cell_type": "code",
   "execution_count": 54,
   "metadata": {
    "collapsed": false
   },
   "outputs": [
    {
     "name": "stdout",
     "output_type": "stream",
     "text": [
      "[False  True False False False False  True False False False False False\n",
      " False  True False False False False False False False False  True False\n",
      " False False False False False False False False  True False False False\n",
      " False False False False False False False False False False]\n",
      "[23  1 36 37 35 14  1 16 18 34 19 10 31  1 29 17  6 11  3 22 13 41  1 38  8\n",
      " 12 15 27 24 28  2 33  1  4  9 25 21  5 30 39 20  7 40 32 26 42]\n"
     ]
    }
   ],
   "source": [
    "from sklearn.feature_selection import RFE\n",
    "X_train, X_test, y_train, y_test = train_test_split(X, y, random_state=42)\n",
    "\n",
    "model = LogisticRegression()\n",
    "\n",
    "scaler = StandardScaler()\n",
    "scaler.fit(X_train)\n",
    "    \n",
    "X_train = scaler.transform(X_train)\n",
    "X_test = scaler.transform(X_test)\n",
    "\n",
    "rfe = RFE(model,5)\n",
    "rfe = rfe.fit(X_train, y_train)\n",
    "\n",
    "print(rfe.support_)\n",
    "print(rfe.ranking_)"
   ]
  },
  {
   "cell_type": "code",
   "execution_count": 55,
   "metadata": {
    "collapsed": false
   },
   "outputs": [
    {
     "name": "stdout",
     "output_type": "stream",
     "text": [
      "('data_scientist', 1)\n",
      "('machine_learning', 1)\n",
      "('nlp', 1)\n",
      "('ml', 3)\n",
      "('javascript', 1)\n",
      "('matlab', 2)\n",
      "('spss', 1)\n",
      "('cloud', 4)\n",
      "('aws', 5)\n"
     ]
    }
   ],
   "source": [
    "# top 5 strong features\n",
    "\n",
    "for i,j in zip(X.columns, rfe.ranking_):\n",
    "    if j < 6:\n",
    "        print (i,j)"
   ]
  },
  {
   "cell_type": "code",
   "execution_count": 56,
   "metadata": {
    "collapsed": false
   },
   "outputs": [
    {
     "name": "stdout",
     "output_type": "stream",
     "text": [
      "('train_score:', 0.63486842105263153, 'test_score:', 0.51960784313725494)\n"
     ]
    }
   ],
   "source": [
    "predict = rfe.predict_proba(X)\n",
    "print('train_score:', train_score, 'test_score:', test_score)"
   ]
  },
  {
   "cell_type": "code",
   "execution_count": 57,
   "metadata": {
    "collapsed": false
   },
   "outputs": [
    {
     "name": "stdout",
     "output_type": "stream",
     "text": [
      "                  precision    recall  f1-score   support\n",
      "\n",
      "        big_data       0.73      0.86      0.79        50\n",
      "  data_scientist       0.84      0.69      0.76        52\n",
      "\n",
      "     avg / total       0.78      0.77      0.77       102\n",
      "\n"
     ]
    }
   ],
   "source": [
    "y_true = y_test\n",
    "y_pred = rfe.predict(X_test)\n",
    "target_names = key_words\n",
    "\n",
    "print(classification_report(y_true, y_pred, target_names=target_names))"
   ]
  },
  {
   "cell_type": "markdown",
   "metadata": {
    "focus": false,
    "id": "9c9274ef-c9f5-4d56-b286-ecc8709eff9f"
   },
   "source": [
    "#### Rebuild this model with scikit-learn.\n",
    "- You can either create the dummy features manually or use the `dmatrix` function from `patsy`\n",
    "- Remember to scale the feature variables as well!\n"
   ]
  },
  {
   "cell_type": "code",
   "execution_count": 58,
   "metadata": {
    "collapsed": true
   },
   "outputs": [],
   "source": [
    "# Let's try the key words\n",
    "y = df['above_107k']\n",
    "X = df[key_words]"
   ]
  },
  {
   "cell_type": "code",
   "execution_count": 59,
   "metadata": {
    "collapsed": false,
    "focus": false,
    "id": "b76f65cd-cd3a-4e91-af55-12880be7b057",
    "scrolled": true
   },
   "outputs": [
    {
     "name": "stdout",
     "output_type": "stream",
     "text": [
      "[ 0.82926829  0.7804878   0.70731707  0.65853659  0.75609756  0.73170732\n",
      "  0.65853659  0.575       0.95        0.84615385]\n",
      "0.749310506567\n"
     ]
    }
   ],
   "source": [
    "from sklearn.neighbors import KNeighborsClassifier\n",
    "from sklearn.model_selection import cross_val_score\n",
    "\n",
    "knn = KNeighborsClassifier()\n",
    "\n",
    "scores = cross_val_score(knn, X, y, cv=10)\n",
    "print scores\n",
    "print np.mean(scores)"
   ]
  },
  {
   "cell_type": "code",
   "execution_count": 60,
   "metadata": {
    "collapsed": false
   },
   "outputs": [],
   "source": [
    "knn.fit(X, y)\n",
    "predicted = knn.predict(X)\n",
    "predicted_probs = knn.predict_proba(X)"
   ]
  },
  {
   "cell_type": "code",
   "execution_count": 61,
   "metadata": {
    "collapsed": false
   },
   "outputs": [],
   "source": [
    "from sklearn.metrics import confusion_matrix \n",
    "\n",
    "contingency_table = pd.DataFrame(confusion_matrix(y, predicted),\n",
    "                                 columns=['Predicted 0', 'Predicted 1'],\n",
    "                                 index=['Actual 0', 'Actual 1'])"
   ]
  },
  {
   "cell_type": "code",
   "execution_count": 62,
   "metadata": {
    "collapsed": false
   },
   "outputs": [
    {
     "data": {
      "text/html": [
       "<div>\n",
       "<table border=\"1\" class=\"dataframe\">\n",
       "  <thead>\n",
       "    <tr style=\"text-align: right;\">\n",
       "      <th></th>\n",
       "      <th>Predicted 0</th>\n",
       "      <th>Predicted 1</th>\n",
       "    </tr>\n",
       "  </thead>\n",
       "  <tbody>\n",
       "    <tr>\n",
       "      <th>Actual 0</th>\n",
       "      <td>186</td>\n",
       "      <td>31</td>\n",
       "    </tr>\n",
       "    <tr>\n",
       "      <th>Actual 1</th>\n",
       "      <td>48</td>\n",
       "      <td>141</td>\n",
       "    </tr>\n",
       "  </tbody>\n",
       "</table>\n",
       "</div>"
      ],
      "text/plain": [
       "          Predicted 0  Predicted 1\n",
       "Actual 0          186           31\n",
       "Actual 1           48          141"
      ]
     },
     "execution_count": 62,
     "metadata": {},
     "output_type": "execute_result"
    }
   ],
   "source": [
    "contingency_table"
   ]
  },
  {
   "cell_type": "code",
   "execution_count": 63,
   "metadata": {
    "collapsed": false
   },
   "outputs": [
    {
     "data": {
      "text/plain": [
       "0.80541871921182262"
      ]
     },
     "execution_count": 63,
     "metadata": {},
     "output_type": "execute_result"
    }
   ],
   "source": [
    "from sklearn.metrics import accuracy_score\n",
    "accuracy_score(y, predicted)\n",
    "# Accuracy: proportion of high salary correctly predicted by \n",
    "# the model"
   ]
  },
  {
   "cell_type": "code",
   "execution_count": 64,
   "metadata": {
    "collapsed": false
   },
   "outputs": [
    {
     "data": {
      "text/plain": [
       "0.81976744186046513"
      ]
     },
     "execution_count": 64,
     "metadata": {},
     "output_type": "execute_result"
    }
   ],
   "source": [
    "from sklearn.metrics import precision_score\n",
    "# Percision: the ability of the classifier to avoid mislabeling \n",
    "# when the observation belongs in another class\n",
    "\n",
    "precision_score(y, predicted)"
   ]
  },
  {
   "cell_type": "code",
   "execution_count": 65,
   "metadata": {
    "collapsed": false
   },
   "outputs": [
    {
     "data": {
      "text/plain": [
       "0.74603174603174605"
      ]
     },
     "execution_count": 65,
     "metadata": {},
     "output_type": "execute_result"
    }
   ],
   "source": [
    "from sklearn.metrics import recall_score\n",
    "# Recall: the ability of the classifier to correctly identify \n",
    "# all observations in the current class\n",
    "\n",
    "recall_score(y, predicted)"
   ]
  },
  {
   "cell_type": "code",
   "execution_count": 66,
   "metadata": {
    "collapsed": false
   },
   "outputs": [
    {
     "data": {
      "text/plain": [
       "0.80158730158730163"
      ]
     },
     "execution_count": 66,
     "metadata": {},
     "output_type": "execute_result"
    }
   ],
   "source": [
    "from sklearn.metrics import auc, roc_curve\n",
    "\n",
    "fpr, tpr, thresholds = roc_curve(y, predicted)\n",
    "auc(fpr, tpr)"
   ]
  },
  {
   "cell_type": "code",
   "execution_count": 67,
   "metadata": {
    "collapsed": false
   },
   "outputs": [
    {
     "data": {
      "text/plain": [
       "<matplotlib.text.Text at 0x11bc79d90>"
      ]
     },
     "execution_count": 67,
     "metadata": {},
     "output_type": "execute_result"
    },
    {
     "data": {
      "image/png": "[encoded data removed]",
      "text/plain": [
       "<matplotlib.figure.Figure at 0x11bc3a590>"
      ]
     },
     "metadata": {},
     "output_type": "display_data"
    }
   ],
   "source": [
    "Sensitivity = tpr\n",
    "FPR = fpr\n",
    "plt.plot(FPR, Sensitivity, marker = 'o',linestyle = '--',color = 'r')\n",
    "x = [i*0.01 for i in range(100)]\n",
    "y = [i*0.01 for i in range(100)]\n",
    "plt.plot(x, y)\n",
    "plt.xlabel('(1-Specificity)')\n",
    "plt.ylabel('Sensitivity')\n",
    "plt.title('ROC Curve')"
   ]
  },
  {
   "cell_type": "code",
   "execution_count": 68,
   "metadata": {
    "collapsed": true
   },
   "outputs": [],
   "source": [
    "from sklearn.linear_model import LassoCV, RidgeCV\n",
    "from sklearn.model_selection import GridSearchCV"
   ]
  },
  {
   "cell_type": "code",
   "execution_count": 88,
   "metadata": {
    "collapsed": true
   },
   "outputs": [],
   "source": [
    "# Let's try the key words\n",
    "y = df['above_107k']\n",
    "X = df[key_words]"
   ]
  },
  {
   "cell_type": "code",
   "execution_count": 89,
   "metadata": {
    "collapsed": false
   },
   "outputs": [
    {
     "name": "stdout",
     "output_type": "stream",
     "text": [
      "Fitting 10 folds for each of 20 candidates, totalling 200 fits\n"
     ]
    },
    {
     "name": "stderr",
     "output_type": "stream",
     "text": [
      "[Parallel(n_jobs=1)]: Done 200 out of 200 | elapsed:    4.2s finished\n"
     ]
    },
    {
     "data": {
      "text/plain": [
       "GridSearchCV(cv=10, error_score='raise',\n",
       "       estimator=KNeighborsClassifier(algorithm='auto', leaf_size=30, metric='minkowski',\n",
       "           metric_params=None, n_jobs=1, n_neighbors=5, p=2,\n",
       "           weights='uniform'),\n",
       "       fit_params={}, iid=True, n_jobs=1,\n",
       "       param_grid={'n_neighbors': [1, 3, 5, 7, 9, 11, 13, 15, 17, 19], 'weights': ['uniform', 'distance']},\n",
       "       pre_dispatch='2*n_jobs', refit=True, return_train_score=True,\n",
       "       scoring=None, verbose=1)"
      ]
     },
     "execution_count": 89,
     "metadata": {},
     "output_type": "execute_result"
    }
   ],
   "source": [
    "knn = KNeighborsClassifier()\n",
    "knn_params = {\n",
    "    'n_neighbors':range(1,20,2),\n",
    "    'weights':['uniform','distance']\n",
    "}\n",
    "\n",
    "gs = GridSearchCV(knn, knn_params, cv=10, verbose=1)\n",
    "gs.fit(X, y)"
   ]
  },
  {
   "cell_type": "code",
   "execution_count": 90,
   "metadata": {
    "collapsed": false
   },
   "outputs": [
    {
     "data": {
      "text/plain": [
       "KNeighborsClassifier(algorithm='auto', leaf_size=30, metric='minkowski',\n",
       "           metric_params=None, n_jobs=1, n_neighbors=9, p=2,\n",
       "           weights='uniform')"
      ]
     },
     "execution_count": 90,
     "metadata": {},
     "output_type": "execute_result"
    }
   ],
   "source": [
    "gs.best_estimator_"
   ]
  },
  {
   "cell_type": "code",
   "execution_count": 91,
   "metadata": {
    "collapsed": false
   },
   "outputs": [
    {
     "data": {
      "text/plain": [
       "{'n_neighbors': 9, 'weights': 'uniform'}"
      ]
     },
     "execution_count": 91,
     "metadata": {},
     "output_type": "execute_result"
    }
   ],
   "source": [
    "gs.best_params_"
   ]
  },
  {
   "cell_type": "code",
   "execution_count": 92,
   "metadata": {
    "collapsed": false
   },
   "outputs": [
    {
     "data": {
      "text/plain": [
       "0.77093596059113301"
      ]
     },
     "execution_count": 92,
     "metadata": {},
     "output_type": "execute_result"
    }
   ],
   "source": [
    "gs.best_score_"
   ]
  },
  {
   "cell_type": "code",
   "execution_count": 93,
   "metadata": {
    "collapsed": false
   },
   "outputs": [
    {
     "data": {
      "text/plain": [
       "0.80158730158730163"
      ]
     },
     "execution_count": 93,
     "metadata": {},
     "output_type": "execute_result"
    }
   ],
   "source": [
    "fpr, tpr, thresholds = roc_curve(y, predicted)\n",
    "auc(fpr, tpr)"
   ]
  },
  {
   "cell_type": "code",
   "execution_count": 94,
   "metadata": {
    "collapsed": false,
    "scrolled": false
   },
   "outputs": [
    {
     "data": {
      "text/plain": [
       "<matplotlib.text.Text at 0x11c50c890>"
      ]
     },
     "execution_count": 94,
     "metadata": {},
     "output_type": "execute_result"
    },
    {
     "data": {
      "image/png": "[encoded data removed]",
      "text/plain": [
       "<matplotlib.figure.Figure at 0x11c502550>"
      ]
     },
     "metadata": {},
     "output_type": "display_data"
    }
   ],
   "source": [
    "Sensitivity = tpr\n",
    "Specificity = fpr\n",
    "plt.plot(Specificity, Sensitivity, marker = 'o',linestyle = '--',color = 'r')\n",
    "x = [i*0.01 for i in range(100)]\n",
    "y = [i*0.01 for i in range(100)]\n",
    "plt.plot(x, y)\n",
    "plt.xlabel('(1-Specificity)')\n",
    "plt.ylabel('Sensitivity')\n",
    "plt.title('ROC Curve')"
   ]
  },
  {
   "cell_type": "code",
   "execution_count": null,
   "metadata": {
    "collapsed": true
   },
   "outputs": [],
   "source": [
    "# conclusion\n",
    "\n",
    "# we got our model accuracy to increase to 0.82. AUC - area under curve to\n",
    "# 0.80. In this scenario we want our model to be sensetive to weed out the\n",
    "# type II errors and the tradeoff is specificity. Our client doesn't really\n",
    "# care about compensating the deserving skilled data scientists as much as\n",
    "# overpaying when the compensation was wrongfully labled as a high salary."
   ]
  },
  {
   "cell_type": "markdown",
   "metadata": {
    "focus": false,
    "id": "9367beff-72ba-4768-a0ba-a50b335de61d"
   },
   "source": [
    "#### Use cross-validation in scikit-learn to evaluate the model above. \n",
    "- Evaluate the accuracy, AUC, precision and recall of the model. \n",
    "- Discuss the differences and explain when you want a high-recall or a high-precision model in this scenario."
   ]
  },
  {
   "cell_type": "code",
   "execution_count": 74,
   "metadata": {
    "collapsed": false,
    "focus": false,
    "id": "269b9e7c-60b5-4a06-8255-881d7395bc1b"
   },
   "outputs": [],
   "source": [
    "# Let's use all features\n",
    "\n",
    "y = df['above_107k']\n",
    "X = df.drop(['city','company','summary','title','parsed_salary','above_107k','levels','words'],axis=1)"
   ]
  },
  {
   "cell_type": "code",
   "execution_count": 75,
   "metadata": {
    "collapsed": false
   },
   "outputs": [
    {
     "name": "stdout",
     "output_type": "stream",
     "text": [
      "Fitting 10 folds for each of 20 candidates, totalling 200 fits\n"
     ]
    },
    {
     "name": "stderr",
     "output_type": "stream",
     "text": [
      "[Parallel(n_jobs=1)]: Done 200 out of 200 | elapsed:    4.7s finished\n"
     ]
    },
    {
     "data": {
      "text/plain": [
       "GridSearchCV(cv=10, error_score='raise',\n",
       "       estimator=KNeighborsClassifier(algorithm='auto', leaf_size=30, metric='minkowski',\n",
       "           metric_params=None, n_jobs=1, n_neighbors=5, p=2,\n",
       "           weights='uniform'),\n",
       "       fit_params={}, iid=True, n_jobs=1,\n",
       "       param_grid={'n_neighbors': [1, 3, 5, 7, 9, 11, 13, 15, 17, 19], 'weights': ['uniform', 'distance']},\n",
       "       pre_dispatch='2*n_jobs', refit=True, return_train_score=True,\n",
       "       scoring=None, verbose=1)"
      ]
     },
     "execution_count": 75,
     "metadata": {},
     "output_type": "execute_result"
    }
   ],
   "source": [
    "knn = KNeighborsClassifier()\n",
    "knn_params = {\n",
    "    'n_neighbors':range(1,20,2),\n",
    "    'weights':['uniform','distance']\n",
    "}\n",
    "\n",
    "gs = GridSearchCV(knn, knn_params, cv=10, verbose=1)\n",
    "gs.fit(X, y)"
   ]
  },
  {
   "cell_type": "code",
   "execution_count": 76,
   "metadata": {
    "collapsed": false
   },
   "outputs": [
    {
     "data": {
      "text/plain": [
       "KNeighborsClassifier(algorithm='auto', leaf_size=30, metric='minkowski',\n",
       "           metric_params=None, n_jobs=1, n_neighbors=19, p=2,\n",
       "           weights='uniform')"
      ]
     },
     "execution_count": 76,
     "metadata": {},
     "output_type": "execute_result"
    }
   ],
   "source": [
    "gs.best_estimator_"
   ]
  },
  {
   "cell_type": "code",
   "execution_count": 77,
   "metadata": {
    "collapsed": false
   },
   "outputs": [
    {
     "data": {
      "text/plain": [
       "{'n_neighbors': 19, 'weights': 'uniform'}"
      ]
     },
     "execution_count": 77,
     "metadata": {},
     "output_type": "execute_result"
    }
   ],
   "source": [
    "gs.best_params_"
   ]
  },
  {
   "cell_type": "code",
   "execution_count": 78,
   "metadata": {
    "collapsed": false
   },
   "outputs": [
    {
     "data": {
      "text/plain": [
       "0.77832512315270941"
      ]
     },
     "execution_count": 78,
     "metadata": {},
     "output_type": "execute_result"
    }
   ],
   "source": [
    "gs.best_score_"
   ]
  },
  {
   "cell_type": "markdown",
   "metadata": {
    "focus": false,
    "id": "8c22664b-92e4-4fc2-b7ac-fbac865845d3"
   },
   "source": [
    "#### Compare L1 and L2 regularization for this logistic regression model. What effect does this have on the coefficients learned?"
   ]
  },
  {
   "cell_type": "code",
   "execution_count": 179,
   "metadata": {
    "collapsed": false,
    "focus": false,
    "id": "172fd952-5012-4630-81f4-1206da6eb820",
    "scrolled": true
   },
   "outputs": [
    {
     "name": "stdout",
     "output_type": "stream",
     "text": [
      "Fitting 10 folds for each of 2000 candidates, totalling 20000 fits\n"
     ]
    },
    {
     "name": "stderr",
     "output_type": "stream",
     "text": [
      "[Parallel(n_jobs=1)]: Done 20000 out of 20000 | elapsed:  2.5min finished\n"
     ]
    },
    {
     "data": {
      "text/plain": [
       "GridSearchCV(cv=10, error_score='raise',\n",
       "       estimator=LogisticRegression(C=1.0, class_weight=None, dual=False, fit_intercept=True,\n",
       "          intercept_scaling=1, max_iter=100, multi_class='ovr', n_jobs=1,\n",
       "          penalty='l2', random_state=None, solver='liblinear', tol=0.0001,\n",
       "          verbose=0, warm_start=False),\n",
       "       fit_params={}, iid=True, n_jobs=1,\n",
       "       param_grid={'penalty': ['l1', 'l2'], 'C': array([  1.00000e-04,   1.01099e-02, ...,   9.98999e+00,   1.00000e+01]), 'solver': ['liblinear']},\n",
       "       pre_dispatch='2*n_jobs', refit=True, return_train_score=True,\n",
       "       scoring=None, verbose=1)"
      ]
     },
     "execution_count": 179,
     "metadata": {},
     "output_type": "execute_result"
    }
   ],
   "source": [
    "lr = LogisticRegression()\n",
    "\n",
    "params = {\n",
    "    'penalty':['l1','l2'],  \n",
    "    'solver':['liblinear'],\n",
    "    'C':np.linspace(0.0001, 10, 1000)\n",
    "}\n",
    "\n",
    "gs = GridSearchCV(lr, params, cv=10, verbose=1)\n",
    "gs.fit(X, y)"
   ]
  },
  {
   "cell_type": "code",
   "execution_count": 180,
   "metadata": {
    "collapsed": false,
    "focus": false,
    "id": "56cc8854-d722-411d-a6c7-e86310710f67"
   },
   "outputs": [
    {
     "name": "stdout",
     "output_type": "stream",
     "text": [
      "0.775862068966\n",
      "{'penalty': 'l1', 'C': 1.2913783783783785, 'solver': 'liblinear'}\n"
     ]
    }
   ],
   "source": [
    "print gs.best_score_\n",
    "print gs.best_params_"
   ]
  },
  {
   "cell_type": "code",
   "execution_count": 135,
   "metadata": {
    "collapsed": false
   },
   "outputs": [
    {
     "data": {
      "text/html": [
       "<div>\n",
       "<table border=\"1\" class=\"dataframe\">\n",
       "  <thead>\n",
       "    <tr style=\"text-align: right;\">\n",
       "      <th></th>\n",
       "      <th>abscoef</th>\n",
       "      <th>coef</th>\n",
       "      <th>variable</th>\n",
       "    </tr>\n",
       "  </thead>\n",
       "  <tbody>\n",
       "    <tr>\n",
       "      <th>1</th>\n",
       "      <td>1.161518</td>\n",
       "      <td>1.161518</td>\n",
       "      <td>data_scientist</td>\n",
       "    </tr>\n",
       "    <tr>\n",
       "      <th>19</th>\n",
       "      <td>0.952891</td>\n",
       "      <td>0.952891</td>\n",
       "      <td>c++</td>\n",
       "    </tr>\n",
       "    <tr>\n",
       "      <th>33</th>\n",
       "      <td>0.691861</td>\n",
       "      <td>-0.691861</td>\n",
       "      <td>cloud</td>\n",
       "    </tr>\n",
       "    <tr>\n",
       "      <th>6</th>\n",
       "      <td>0.482638</td>\n",
       "      <td>0.482638</td>\n",
       "      <td>machine_learning</td>\n",
       "    </tr>\n",
       "    <tr>\n",
       "      <th>32</th>\n",
       "      <td>0.458665</td>\n",
       "      <td>-0.458665</td>\n",
       "      <td>spss</td>\n",
       "    </tr>\n",
       "    <tr>\n",
       "      <th>13</th>\n",
       "      <td>0.405314</td>\n",
       "      <td>0.405314</td>\n",
       "      <td>nlp</td>\n",
       "    </tr>\n",
       "  </tbody>\n",
       "</table>\n",
       "</div>"
      ],
      "text/plain": [
       "     abscoef      coef          variable\n",
       "1   1.161518  1.161518    data_scientist\n",
       "19  0.952891  0.952891               c++\n",
       "33  0.691861 -0.691861             cloud\n",
       "6   0.482638  0.482638  machine_learning\n",
       "32  0.458665 -0.458665              spss\n",
       "13  0.405314  0.405314               nlp"
      ]
     },
     "execution_count": 135,
     "metadata": {},
     "output_type": "execute_result"
    }
   ],
   "source": [
    "coefs_vars = pd.DataFrame({\n",
    "        'coef':gs.best_estimator_.coef_[0],\n",
    "        'variable':X.columns,\n",
    "        'abscoef':np.abs(gs.best_estimator_.coef_[0])\n",
    "    })\n",
    "coefs_vars.sort_values('abscoef', ascending=False, inplace=True)\n",
    "coefs_vars[coefs_vars.coef != 0].head(6)"
   ]
  },
  {
   "cell_type": "markdown",
   "metadata": {
    "focus": false,
    "id": "fead9b5b-7316-405d-87fd-e144dff0cbeb"
   },
   "source": [
    "#### Continue to incorporate other text features from the title or summary that you believe will predict the salary and examine their coefficients"
   ]
  },
  {
   "cell_type": "markdown",
   "metadata": {
    "focus": false,
    "id": "12d5edeb-a272-43a0-9977-d951f12fedfb"
   },
   "source": [
    "#### Take ~100 scraped entries with salaries. Convert them to use with your model and predict the salary - which entries have the highest predicted salaries?"
   ]
  },
  {
   "cell_type": "markdown",
   "metadata": {
    "focus": false,
    "id": "3be94357-e551-4094-b784-2df039216d33"
   },
   "source": [
    "### BONUS "
   ]
  },
  {
   "cell_type": "markdown",
   "metadata": {
    "focus": false,
    "id": "db045898-1d2d-4af2-8e79-437c4c7546b4"
   },
   "source": [
    "#### Bonus: Use Count Vectorizer from scikit-learn to create features from the text summaries. \n",
    "- Examine using count or binary features in the model\n",
    "- Re-evaluate the logistic regression model using these. Does this improve the model performance? \n",
    "- What text features are the most valuable? "
   ]
  },
  {
   "cell_type": "code",
   "execution_count": null,
   "metadata": {
    "collapsed": false,
    "focus": false,
    "id": "4239e458-28bd-4675-8db3-c1d9c02b9854"
   },
   "outputs": [],
   "source": [
    "from sklearn.feature_extraction.text import CountVectorizer"
   ]
  },
  {
   "cell_type": "code",
   "execution_count": null,
   "metadata": {
    "collapsed": false,
    "focus": false,
    "id": "fec80936-37bc-4922-89bd-b5d615566c9c"
   },
   "outputs": [],
   "source": [
    "cv = CountVectorizer()\n",
    "cv_fit=cv.fit_transform(df['summary'])\n",
    "\n",
    "print cv.vocabulary_\n",
    "#print(cv.get_feature_names())\n",
    "#print(cv_fit.toarray())"
   ]
  },
  {
   "cell_type": "markdown",
   "metadata": {
    "focus": false,
    "id": "d42b9fd8-39d5-416a-b40b-7410e6396c11"
   },
   "source": [
    "#### Re-test L1 and L2 regularization. You can use LogisticRegressionCV to find the optimal reguarlization parameters. \n",
    "- Re-test what text features are most valuable.  \n",
    "- How do L1 and L2 change the coefficients?"
   ]
  },
  {
   "cell_type": "code",
   "execution_count": null,
   "metadata": {
    "collapsed": false,
    "focus": false,
    "id": "7570e237-c8cc-4e26-b569-7aee10627e79"
   },
   "outputs": [],
   "source": [
    "## YOUR CODE HERE"
   ]
  },
  {
   "cell_type": "code",
   "execution_count": null,
   "metadata": {
    "collapsed": true,
    "focus": false,
    "id": "e3a0c83d-e3b8-4bed-b864-7e795b34a3d4"
   },
   "outputs": [],
   "source": []
  }
 ],
 "metadata": {
  "anaconda-cloud": {},
  "kernelspec": {
   "display_name": "Python [default]",
   "language": "python",
   "name": "python2"
  },
  "language_info": {
   "codemirror_mode": {
    "name": "ipython",
    "version": 2
   },
   "file_extension": ".py",
   "mimetype": "text/x-python",
   "name": "python",
   "nbconvert_exporter": "python",
   "pygments_lexer": "ipython2",
   "version": "2.7.12"
  }
 },
 "nbformat": 4,
 "nbformat_minor": 0
}
