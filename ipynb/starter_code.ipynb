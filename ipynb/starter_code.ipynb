{
 "cells": [
  {
   "cell_type": "markdown",
   "metadata": {
    "focus": false,
    "id": "69b9a648-bcc7-490d-9f9b-ea244d156bd6"
   },
   "source": [
    "# Web Scraping Indeed.com & Predicting Salaries"
   ]
  },
  {
   "cell_type": "markdown",
   "metadata": {
    "focus": false,
    "id": "34681254-c802-462f-829d-8894d0772d08"
   },
   "source": [
    "In this project, we will practice two major skills: collecting data by scraping Indeed and then building a binary predictor with a classifier.\n",
    "\n",
    "We are going to collect salary information on data science jobs in a variety of markets. Then using the location, title and summary of the job we will attempt to predict the salary of the job. For job posting sites, this would be extraordinarily useful. While most listings DO NOT come with salary information (as you will see in this exercise), being able to extrapolate or predict the expected salaries from other listings can help guide negotiations.\n",
    "\n",
    "Normally, we could use regression for this task; however, we will convert this problem into classification.\n",
    "\n",
    "- Question: Why would we want this to be a classification problem?\n",
    "- Answer: While more precision may be better, there is a fair amount of natural variance in job salaries - predicting a range be may be useful.\n",
    "\n",
    "Therefore, the first part of the assignment will be focused on scraping Indeed.com. In the second, we'll focus on using listings with salary information to build a model and predict additional salaries."
   ]
  },
  {
   "cell_type": "markdown",
   "metadata": {
    "focus": false,
    "id": "a948d79c-5527-4c0d-ab23-f5d43ce72056"
   },
   "source": [
    "### Scraping job listings from Indeed.com"
   ]
  },
  {
   "cell_type": "markdown",
   "metadata": {
    "focus": true,
    "id": "7203e0c9-e437-4802-a6ad-7dc464f94436"
   },
   "source": [
    "We will be scraping job listings from Indeed.com using BeautifulSoup. Luckily, Indeed.com is a simple text page where we can easily find relevant entries.\n",
    "\n",
    "First, look at the source of an Indeed.com page: (http://www.indeed.com/jobs?q=data+scientist+%2420%2C000&l=New+York&start=10\")\n",
    "\n",
    "Notice, each job listing is underneath a `div` tag with a class name of `result`. We can use BeautifulSoup to extract those. "
   ]
  },
  {
   "cell_type": "markdown",
   "metadata": {
    "focus": false,
    "id": "9732c901-ae26-4160-8376-42e22dd327df"
   },
   "source": [
    "#### Setup a request (using `requests`) to the URL below. Use BeautifulSoup to parse the page and extract all results (HINT: Look for div tags with class name result)\n",
    "\n",
    "The URL here has many query parameters\n",
    "\n",
    "- `q` for the job search\n",
    "- This is followed by \"+20,000\" to return results with salaries (or expected salaries >$20,000)\n",
    "- `l` for a location \n",
    "- `start` for what result number to start on"
   ]
  },
  {
   "cell_type": "markdown",
   "metadata": {
    "focus": false,
    "id": "bb0b866a-26a7-45e9-8084-5a0f90eb4b3e"
   },
   "source": [
    "Let's look at one result more closely. A single `result` looks like\n",
    "\n",
    "```\n",
    "<div class=\" row result\" data-jk=\"2480d203f7e97210\" data-tn-component=\"organicJob\" id=\"p_2480d203f7e97210\" itemscope=\"\" itemtype=\"http://schema.org/JobPosting\">\n",
    "<h2 class=\"jobtitle\" id=\"jl_2480d203f7e97210\">\n",
    "<a class=\"turnstileLink\" data-tn-element=\"jobTitle\" onmousedown=\"return rclk(this,jobmap[0],1);\" rel=\"nofollow\" target=\"_blank\" title=\"AVP/Quantitative Analyst\">AVP/Quantitative Analyst</a>\n",
    "</h2>\n",
    "<span class=\"company\" itemprop=\"hiringOrganization\" itemtype=\"http://schema.org/Organization\">\n",
    "<span itemprop=\"name\">\n",
    "<a href=\"/cmp/Alliancebernstein?from=SERP&amp;campaignid=serp-linkcompanyname&amp;fromjk=2480d203f7e97210&amp;jcid=b374f2a780e04789\" target=\"_blank\">\n",
    "    AllianceBernstein</a></span>\n",
    "</span>\n",
    "<tr>\n",
    "<td class=\"snip\">\n",
    "<nobr>$117,500 - $127,500 a year</nobr>\n",
    "<div>\n",
    "<span class=\"summary\" itemprop=\"description\">\n",
    "C onduct quantitative and statistical research as well as portfolio management for various investment portfolios. Collaborate with Quantitative Analysts and</span>\n",
    "</div>\n",
    "</div>\n",
    "</td>\n",
    "</tr>\n",
    "</table>\n",
    "</div>\n",
    "```\n",
    "\n",
    "While this has some more verbose elements removed, we can see that there is some structure to the above:\n",
    "- The salary is available in a `nobr` element inside of a `td` element with `class='snip`.\n",
    "- The title of a job is in a link with class set to `jobtitle` and a `data-tn-element=\"jobTitle`.  \n",
    "- The location is set in a `span` with `class='location'`. \n",
    "- The company is set in a `span` with `class='company'`. "
   ]
  },
  {
   "cell_type": "markdown",
   "metadata": {},
   "source": [
    "### Imports"
   ]
  },
  {
   "cell_type": "code",
   "execution_count": 1,
   "metadata": {
    "collapsed": true
   },
   "outputs": [],
   "source": [
    "import os\n",
    "os.chdir('../')"
   ]
  },
  {
   "cell_type": "code",
   "execution_count": 2,
   "metadata": {
    "collapsed": false
   },
   "outputs": [],
   "source": [
    "import pandas as pd\n",
    "import pickle\n",
    "import numpy as np\n",
    "\n",
    "from nltk.corpus import stopwords \n",
    "\n",
    "from sklearn.model_selection import GridSearchCV, cross_val_score, train_test_split\n",
    "from sklearn.linear_model import LogisticRegression \n",
    "from sklearn.feature_extraction.text import TfidfVectorizer\n",
    "from sklearn.decomposition import TruncatedSVD\n",
    "from sklearn.preprocessing import Normalizer\n",
    "from sklearn.pipeline import Pipeline\n",
    "from sklearn.neural_network import MLPClassifier\n",
    "from sklearn.svm import SVC\n",
    "from sklearn.gaussian_process import GaussianProcessClassifier\n",
    "from sklearn.gaussian_process.kernels import RBF\n",
    "from sklearn.tree import DecisionTreeClassifier\n",
    "from sklearn.ensemble import RandomForestClassifier\n",
    "from sklearn.metrics import classification_report\n",
    "\n",
    "from lib.indeed_parsing import extract_posts, extract_posts_wo_salary\n",
    "from lib.preprocessing import clean_salary, clean_text, standardize, extract_keywords_into_dummies, is_keyword_in_title_or_summary \n",
    "from lib.normalizing_city import map_city, suburban_vs_city\n",
    "from lib.predict_salary import predict_salary\n",
    "\n",
    "import seaborn as sns\n",
    "import matplotlib.pyplot as plt\n",
    "\n",
    "%matplotlib inline"
   ]
  },
  {
   "cell_type": "markdown",
   "metadata": {},
   "source": [
    "### Cities to collect job posts from:"
   ]
  },
  {
   "cell_type": "code",
   "execution_count": 3,
   "metadata": {
    "collapsed": true,
    "focus": false,
    "id": "a9aa87ec-3575-4a01-a986-eb684f2c47d0"
   },
   "outputs": [],
   "source": [
    "cities = ['New+York', 'Chicago', 'San+Francisco', 'Austin', \n",
    "          'Seattle', 'Los+Angeles', 'Philadelphia', 'Atlanta', \n",
    "          'Dallas', 'Pittsburgh', 'Portland', 'Phoenix', \n",
    "          'Denver', 'Houston', 'Miami', 'Washington']"
   ]
  },
  {
   "cell_type": "markdown",
   "metadata": {},
   "source": [
    "### Parse and Collect - Location, Comapny, Salary, Title, Description"
   ]
  },
  {
   "cell_type": "code",
   "execution_count": 4,
   "metadata": {
    "collapsed": false
   },
   "outputs": [],
   "source": [
    "#more = extract_posts(max_results_per_city=500, cities=cities)"
   ]
  },
  {
   "cell_type": "code",
   "execution_count": 5,
   "metadata": {
    "collapsed": true
   },
   "outputs": [],
   "source": [
    "more = pd.read_pickle('data/more.pkl')"
   ]
  },
  {
   "cell_type": "code",
   "execution_count": 6,
   "metadata": {
    "collapsed": false
   },
   "outputs": [],
   "source": [
    "df = pd.read_pickle('data/df.pkl')"
   ]
  },
  {
   "cell_type": "code",
   "execution_count": 7,
   "metadata": {
    "collapsed": false
   },
   "outputs": [],
   "source": [
    "df = df.append(more, ignore_index=True)"
   ]
  },
  {
   "cell_type": "markdown",
   "metadata": {
    "focus": false,
    "id": "7d4bc860-b214-4f75-9cd0-b234830b1ec2"
   },
   "source": [
    "### Convert salary string to integer and averaging salary ranges if necessary"
   ]
  },
  {
   "cell_type": "code",
   "execution_count": 8,
   "metadata": {
    "collapsed": false
   },
   "outputs": [],
   "source": [
    "df['salary'] = df['salary'].apply(clean_salary)"
   ]
  },
  {
   "cell_type": "code",
   "execution_count": 9,
   "metadata": {
    "collapsed": false
   },
   "outputs": [],
   "source": [
    "df.dropna(inplace=True)"
   ]
  },
  {
   "cell_type": "code",
   "execution_count": 10,
   "metadata": {
    "collapsed": false
   },
   "outputs": [],
   "source": [
    "df.drop_duplicates(inplace=True)"
   ]
  },
  {
   "cell_type": "code",
   "execution_count": 11,
   "metadata": {
    "collapsed": false
   },
   "outputs": [],
   "source": [
    "df.reset_index(drop=True, inplace=True)"
   ]
  },
  {
   "cell_type": "markdown",
   "metadata": {},
   "source": [
    "### Cleans texts from punctuations and numbers"
   ]
  },
  {
   "cell_type": "code",
   "execution_count": 12,
   "metadata": {
    "collapsed": false
   },
   "outputs": [],
   "source": [
    "df['company'] = df['company'].apply(clean_text)\n",
    "df['summary'] = df['summary'].apply(clean_text)\n",
    "df['title'] = df['title'].apply(clean_text)\n",
    "df['city'] = df['city'].astype(str)\n",
    "df['state'] = df['state'].astype(str)"
   ]
  },
  {
   "cell_type": "markdown",
   "metadata": {},
   "source": [
    "### Standardize words like: sr -> senior, jr -> junior"
   ]
  },
  {
   "cell_type": "code",
   "execution_count": 13,
   "metadata": {
    "collapsed": false
   },
   "outputs": [],
   "source": [
    "df['title'] = df['title'].apply(standardize)\n",
    "df['summary'] = df['summary'].apply(standardize)"
   ]
  },
  {
   "cell_type": "markdown",
   "metadata": {
    "focus": false,
    "id": "04563b69-f7b6-466f-9d65-fc62c9ddee6a"
   },
   "source": [
    "## Predicting salaries using Logistic Regression"
   ]
  },
  {
   "cell_type": "markdown",
   "metadata": {
    "focus": false,
    "id": "c7631f51-07f2-4c79-a093-3e9bc7849a48"
   },
   "source": [
    "#### We want to predict a binary variable - whether the salary was low or high. Compute the median salary and create a new binary variable that is true when the salary is high (above the median)\n",
    "\n",
    "We could also perform Linear Regression (or any regression) to predict the salary value here. Instead, we are going to convert this into a _binary_ classification problem, by predicting two classes, HIGH vs LOW salary.\n",
    "\n",
    "While performing regression may be better, performing classification may help remove some of the noise of the extreme salaries. We don't have to choose the `median` as the splitting point - we could also split on the 75th percentile or any other reasonable breaking point.\n",
    "\n",
    "In fact, the ideal scenario may be to predict many levels of salaries\n",
    "\n",
    "find salary percentile:\n",
    "- below twentieth 20th\n",
    "- between 20th and 85th \n",
    "- above 85th"
   ]
  },
  {
   "cell_type": "markdown",
   "metadata": {},
   "source": [
    "### Our data has a normal distribution so I decided to split 1+- standard deviation"
   ]
  },
  {
   "cell_type": "code",
   "execution_count": 14,
   "metadata": {
    "collapsed": false
   },
   "outputs": [
    {
     "data": {
      "text/plain": [
       "<matplotlib.lines.Line2D at 0x112288c10>"
      ]
     },
     "execution_count": 14,
     "metadata": {},
     "output_type": "execute_result"
    },
    {
     "data": {
      "image/png": "[encoded data removed]",
      "text/plain": [
       "<matplotlib.figure.Figure at 0x1122a7590>"
      ]
     },
     "metadata": {},
     "output_type": "display_data"
    }
   ],
   "source": [
    "ax = sns.distplot(df['salary'])\n",
    "ax.axvline(df['salary'].mean(), c='r')\n",
    "ax.axvline(df['salary'].median(), c='g')"
   ]
  },
  {
   "cell_type": "markdown",
   "metadata": {},
   "source": [
    "#### One standard deviation below and above "
   ]
  },
  {
   "cell_type": "code",
   "execution_count": 15,
   "metadata": {
    "collapsed": false
   },
   "outputs": [],
   "source": [
    "twentieth = df['salary'].quantile(0.20)\n",
    "eightyfifth = df['salary'].quantile(0.85)"
   ]
  },
  {
   "cell_type": "code",
   "execution_count": 16,
   "metadata": {
    "collapsed": true
   },
   "outputs": [],
   "source": [
    "def percentile_cls(row):\n",
    "    salary = row['salary']\n",
    "    \n",
    "    if salary < twentieth:\n",
    "        return 0\n",
    "    elif salary >= twentieth and salary < eightyfifth:\n",
    "        return 1 \n",
    "    else:\n",
    "        return 2"
   ]
  },
  {
   "cell_type": "code",
   "execution_count": 17,
   "metadata": {
    "collapsed": false
   },
   "outputs": [],
   "source": [
    "df['percentile_range'] = df.apply(percentile_cls, axis=1)"
   ]
  },
  {
   "cell_type": "code",
   "execution_count": 18,
   "metadata": {
    "collapsed": false
   },
   "outputs": [
    {
     "data": {
      "text/plain": [
       "percentile_range       \n",
       "0                 count       125.000000\n",
       "                  mean      51964.860000\n",
       "                  std       10472.632261\n",
       "                  min       24000.000000\n",
       "                  25%       46000.000000\n",
       "                  50%       52460.000000\n",
       "                  75%       60000.000000\n",
       "                  max       69673.000000\n",
       "1                 count       417.000000\n",
       "                  mean     115096.027578\n",
       "                  std       26847.591605\n",
       "                  min       70000.000000\n",
       "                  25%       90000.000000\n",
       "                  50%      119590.500000\n",
       "                  75%      137500.000000\n",
       "                  max      160000.000000\n",
       "2                 count        96.000000\n",
       "                  mean     191119.791667\n",
       "                  std       24729.775872\n",
       "                  min      162500.000000\n",
       "                  25%      175000.000000\n",
       "                  50%      182500.000000\n",
       "                  75%      200000.000000\n",
       "                  max      300000.000000\n",
       "Name: salary, dtype: float64"
      ]
     },
     "execution_count": 18,
     "metadata": {},
     "output_type": "execute_result"
    }
   ],
   "source": [
    "df.groupby(['percentile_range'])['salary'].describe()"
   ]
  },
  {
   "cell_type": "markdown",
   "metadata": {
    "focus": false,
    "id": "a7afb2c0-d41e-4779-8216-91cd8dd4473f"
   },
   "source": [
    "### What is the baseline accuracy for this model?\n",
    "class with majority count / total count "
   ]
  },
  {
   "cell_type": "code",
   "execution_count": 19,
   "metadata": {
    "collapsed": false
   },
   "outputs": [
    {
     "name": "stdout",
     "output_type": "stream",
     "text": [
      "Baseline Accuracy: 0.653605015674\n"
     ]
    }
   ],
   "source": [
    "baseline_accuracy = 417 / 638.0\n",
    "print \"Baseline Accuracy: %s\" % (baseline_accuracy)"
   ]
  },
  {
   "cell_type": "markdown",
   "metadata": {},
   "source": [
    "---\n",
    "\n",
    "### Groupby percentile range to extract Latent Semantic Analysis from the text at each level"
   ]
  },
  {
   "cell_type": "code",
   "execution_count": 20,
   "metadata": {
    "collapsed": false
   },
   "outputs": [],
   "source": [
    "stops = set(stopwords.words('english'))"
   ]
  },
  {
   "cell_type": "code",
   "execution_count": 21,
   "metadata": {
    "collapsed": false
   },
   "outputs": [],
   "source": [
    "stops.update(['looking','using','work','working',\n",
    "              'join','company','strong','challenge'])"
   ]
  },
  {
   "cell_type": "code",
   "execution_count": 22,
   "metadata": {
    "collapsed": true
   },
   "outputs": [],
   "source": [
    "stops = set([stop.decode('utf-8') for stop in stops])"
   ]
  },
  {
   "cell_type": "code",
   "execution_count": 23,
   "metadata": {
    "collapsed": false
   },
   "outputs": [],
   "source": [
    "titles = pd.DataFrame(df.groupby(['percentile_range'])['title'].apply(lambda x: ' '.join(x)))"
   ]
  },
  {
   "cell_type": "code",
   "execution_count": 24,
   "metadata": {
    "collapsed": true
   },
   "outputs": [],
   "source": [
    "lsa = Pipeline([('vectorizer', TfidfVectorizer(stop_words=stops, ngram_range=(1,2))),\n",
    "                ('normalize', Normalizer(copy=False)),\n",
    "                ('svd', TruncatedSVD(n_components=100, n_iter=10, random_state=42))])"
   ]
  },
  {
   "cell_type": "code",
   "execution_count": 25,
   "metadata": {
    "collapsed": false
   },
   "outputs": [],
   "source": [
    "vec = lsa.fit_transform(titles['title'])"
   ]
  },
  {
   "cell_type": "code",
   "execution_count": 26,
   "metadata": {
    "collapsed": false
   },
   "outputs": [
    {
     "name": "stdout",
     "output_type": "stream",
     "text": [
      "Explained variance of the SVD step: 100%\n"
     ]
    }
   ],
   "source": [
    "explained_variance = lsa.steps[2][1].explained_variance_ratio_.sum()\n",
    "print(\"Explained variance of the SVD step: {}%\".format(\n",
    "    int(explained_variance * 100)))"
   ]
  },
  {
   "cell_type": "markdown",
   "metadata": {},
   "source": [
    "### Top 15 words from title that best describe each class "
   ]
  },
  {
   "cell_type": "code",
   "execution_count": 27,
   "metadata": {
    "collapsed": false
   },
   "outputs": [
    {
     "name": "stdout",
     "output_type": "stream",
     "text": [
      "Top terms per cluster:\n",
      "Cluster 0:\n",
      " research\n",
      " analyst\n",
      " research analyst\n",
      " scientist\n",
      " associate\n",
      " specialist\n",
      " phd\n",
      " technician\n",
      " fellow\n",
      " senior\n",
      " data\n",
      " senior research\n",
      " laboratory\n",
      " analyst research\n",
      " research associate\n",
      "\n",
      "Cluster 1:\n",
      " data\n",
      " scientist\n",
      " data scientist\n",
      " engineer\n",
      " senior\n",
      " analyst\n",
      " learning\n",
      " machine\n",
      " machine learning\n",
      " senior data\n",
      " research\n",
      " scientist data\n",
      " software\n",
      " lead\n",
      " data engineer\n",
      "\n",
      "Cluster 2:\n",
      " data\n",
      " scientist\n",
      " data scientist\n",
      " senior\n",
      " senior data\n",
      " engineer\n",
      " data science\n",
      " lead\n",
      " quantitative\n",
      " analyst\n",
      " science\n",
      " learning\n",
      " director\n",
      " director data\n",
      " machine learning\n",
      "\n"
     ]
    }
   ],
   "source": [
    "print(\"Top terms per cluster:\")\n",
    "\n",
    "original_space_centroids = lsa.steps[2][1].inverse_transform(vec)\n",
    "order_centroids = original_space_centroids.argsort()[:, ::-1]\n",
    "\n",
    "terms = lsa.steps[0][1].get_feature_names()\n",
    "for i in range(3):\n",
    "    print(\"Cluster %d:\" % i)\n",
    "    for ind in order_centroids[i, :15]:\n",
    "        print(' %s' % terms[ind])\n",
    "    print"
   ]
  },
  {
   "cell_type": "markdown",
   "metadata": {},
   "source": [
    "### Groupby percentile range to extract Latent Semantic Analysis from the text in summary column"
   ]
  },
  {
   "cell_type": "code",
   "execution_count": 28,
   "metadata": {
    "collapsed": false
   },
   "outputs": [],
   "source": [
    "keywords = ['research','analyst','research analyst',\n",
    "            'scientist','associate','specialist','phd',\n",
    "            'technician','fellow','senior','senior research',\n",
    "            'laboratory','analyst research','research associate',\n",
    "            'data scientist','engineer','machine learning',\n",
    "            'senior data','software','lead','data engineer',\n",
    "            'data science','quantitative''science','director',\n",
    "            'director data']"
   ]
  },
  {
   "cell_type": "code",
   "execution_count": 29,
   "metadata": {
    "collapsed": false
   },
   "outputs": [],
   "source": [
    "stops.update(keywords)"
   ]
  },
  {
   "cell_type": "code",
   "execution_count": 30,
   "metadata": {
    "collapsed": false
   },
   "outputs": [],
   "source": [
    "stops = set([stop.decode('utf-8') for stop in stops])"
   ]
  },
  {
   "cell_type": "code",
   "execution_count": 31,
   "metadata": {
    "collapsed": true
   },
   "outputs": [],
   "source": [
    "summary = df.groupby(['percentile_range'])['summary'].apply(lambda x: ' '.join(x))"
   ]
  },
  {
   "cell_type": "code",
   "execution_count": 32,
   "metadata": {
    "collapsed": true
   },
   "outputs": [],
   "source": [
    "lsa = Pipeline([('vectorizer', TfidfVectorizer(stop_words=stops, ngram_range=(1,2))),\n",
    "                ('normalize', Normalizer(copy=False)),\n",
    "                ('svd', TruncatedSVD(n_components=100, n_iter=10, random_state=42))])"
   ]
  },
  {
   "cell_type": "code",
   "execution_count": 33,
   "metadata": {
    "collapsed": true
   },
   "outputs": [],
   "source": [
    "vecs = lsa.fit_transform(summary.values)"
   ]
  },
  {
   "cell_type": "code",
   "execution_count": 34,
   "metadata": {
    "collapsed": false
   },
   "outputs": [
    {
     "name": "stdout",
     "output_type": "stream",
     "text": [
      "Explained variance of the SVD step: 100%\n"
     ]
    }
   ],
   "source": [
    "explained_variance = lsa.steps[2][1].explained_variance_ratio_.sum()\n",
    "print(\"Explained variance of the SVD step: {}%\".format(\n",
    "    int(explained_variance * 100)))"
   ]
  },
  {
   "cell_type": "markdown",
   "metadata": {},
   "source": [
    "### Top 15 words from summary that best describe each class "
   ]
  },
  {
   "cell_type": "code",
   "execution_count": 35,
   "metadata": {
    "collapsed": false
   },
   "outputs": [
    {
     "name": "stdout",
     "output_type": "stream",
     "text": [
      "Top terms per cluster:\n",
      "Cluster 0:\n",
      " data\n",
      " experience\n",
      " analysis\n",
      " quality\n",
      " interpret\n",
      " analyze\n",
      " collection\n",
      " team\n",
      " management\n",
      " data collection\n",
      " environmental\n",
      " assist\n",
      " entry\n",
      " statistical\n",
      " data analysis\n",
      "\n",
      "Cluster 1:\n",
      " data\n",
      " learning\n",
      " machine\n",
      " machine learning\n",
      " experience\n",
      " python\n",
      " analysis\n",
      " analytic\n",
      " modeling\n",
      " team\n",
      " techniques\n",
      " statistical\n",
      " big\n",
      " mining\n",
      " new\n",
      "\n",
      "Cluster 2:\n",
      " data\n",
      " learning\n",
      " machine\n",
      " machine learning\n",
      " team\n",
      " experience\n",
      " science\n",
      " data science\n",
      " python\n",
      " analytic\n",
      " three data\n",
      " big\n",
      " big data\n",
      " three\n",
      " team consists\n",
      "\n"
     ]
    }
   ],
   "source": [
    "print(\"Top terms per cluster:\")\n",
    "\n",
    "original_space_centroids = lsa.steps[2][1].inverse_transform(vecs)\n",
    "order_centroids = original_space_centroids.argsort()[:, ::-1]\n",
    "\n",
    "terms = lsa.steps[0][1].get_feature_names()\n",
    "for i in range(3):\n",
    "    print(\"Cluster %d:\" % i)\n",
    "    for ind in order_centroids[i, :15]:\n",
    "        print(' %s' % terms[ind])\n",
    "    print"
   ]
  },
  {
   "cell_type": "markdown",
   "metadata": {
    "focus": false,
    "id": "0ef04f32-419c-4bf2-baf7-48201f03df89"
   },
   "source": [
    "---\n",
    "\n",
    "### Feature Engineering \n",
    "- Cities\n",
    "- Suburban vs city \n",
    "- Top sentiments from titles and summaries "
   ]
  },
  {
   "cell_type": "code",
   "execution_count": 36,
   "metadata": {
    "collapsed": false
   },
   "outputs": [],
   "source": [
    "df['city'] = df.apply(map_city, axis=1)"
   ]
  },
  {
   "cell_type": "code",
   "execution_count": 37,
   "metadata": {
    "collapsed": false
   },
   "outputs": [],
   "source": [
    "df['city_suburb'] = pd.DataFrame(df['city'].apply(lambda x: 1 if 'Suburb' in x else 0))\n",
    "df = df.join(pd.get_dummies(df['city'].apply(suburban_vs_city)))"
   ]
  },
  {
   "cell_type": "code",
   "execution_count": 38,
   "metadata": {
    "collapsed": false
   },
   "outputs": [],
   "source": [
    "df = extract_keywords_into_dummies(df, 'title','research','analyst','research analyst',\n",
    "                                   'scientist','associate','specialist','phd',\n",
    "                                   'technician','fellow','senior','senior research',\n",
    "                                   'laboratory','analyst research','research associate',\n",
    "                                   'data scientist','engineer','machine learning',\n",
    "                                   'senior data','software','lead','data engineer',\n",
    "                                   'data science','quantitative','science','director',\n",
    "                                   'director data')"
   ]
  },
  {
   "cell_type": "code",
   "execution_count": 39,
   "metadata": {
    "collapsed": true
   },
   "outputs": [],
   "source": [
    "df = extract_keywords_into_dummies(df, 'summary','analysis','quality','interpret',\n",
    "                                   'analyze','collection','management','data collection',\n",
    "                                   'environmental','assist','entry','statistical',\n",
    "                                   'data analysis','python','analytic','modeling','big',\n",
    "                                   'mining','data science','big data')"
   ]
  },
  {
   "cell_type": "code",
   "execution_count": 40,
   "metadata": {
    "collapsed": true
   },
   "outputs": [],
   "source": [
    "X = df.drop(['city','company','salary','state','summary','title','percentile_range'], axis=1)\n",
    "y = df['percentile_range']"
   ]
  },
  {
   "cell_type": "code",
   "execution_count": 41,
   "metadata": {
    "collapsed": true
   },
   "outputs": [],
   "source": [
    "X_train, X_test, y_train, y_test = train_test_split(X, y, random_state=0)"
   ]
  },
  {
   "cell_type": "markdown",
   "metadata": {},
   "source": [
    "---\n",
    "\n",
    "### Test different classifiers to find best model"
   ]
  },
  {
   "cell_type": "code",
   "execution_count": 43,
   "metadata": {
    "collapsed": false
   },
   "outputs": [
    {
     "name": "stdout",
     "output_type": "stream",
     "text": [
      "Best parameters set found on development set:\n",
      "{'penalty': 'l1', 'C': 1}\n",
      "\n",
      "Best grid score on development set:\n",
      "Accuracy: 0.73 (+/- 0.00)\n",
      "\n",
      "Detailed classification report:\n",
      "The model is trained on the full development set.\n",
      "The scores are computed on the full evaluation set.\n",
      "\n",
      "             precision    recall  f1-score   support\n",
      "\n",
      "          0       0.62      0.64      0.63        25\n",
      "          1       0.79      0.91      0.85       110\n",
      "          2       1.00      0.32      0.48        25\n",
      "\n",
      "avg / total       0.80      0.78      0.76       160\n",
      "\n"
     ]
    }
   ],
   "source": [
    "params = {'penalty':('l1', 'l2'), 'C':[0.0001, 0.001, 0.01, 0.1, 1, 10, 100]}\n",
    "lr = LogisticRegression(random_state=42)\n",
    "lr_clf = GridSearchCV(lr, params, cv=10)\n",
    "lr_clf.fit(X_train, y_train)\n",
    "print(\"Best parameters set found on development set:\")\n",
    "print(lr_clf.best_params_)\n",
    "print\n",
    "print(\"Best grid score on development set:\")\n",
    "print(\"Accuracy: %0.2f (+/- %0.2f)\" % (lr_clf.best_score_, lr_clf.best_score_.std() * 2))\n",
    "print\n",
    "print(\"Detailed classification report:\")\n",
    "print(\"The model is trained on the full development set.\")\n",
    "print(\"The scores are computed on the full evaluation set.\")\n",
    "print\n",
    "y_true, y_pred = y_test, lr_clf.predict(X_test)\n",
    "print(classification_report(y_true, y_pred))"
   ]
  },
  {
   "cell_type": "code",
   "execution_count": 44,
   "metadata": {
    "collapsed": false
   },
   "outputs": [
    {
     "name": "stdout",
     "output_type": "stream",
     "text": [
      "Best parameters set found on development set:\n",
      "{'kernel': 'rbf', 'C': 10, 'gamma': 0.0601}\n",
      "\n",
      "Best grid score on development set:\n",
      "Accuracy: 0.74 (+/- 0.00)\n",
      "\n",
      "Detailed classification report:\n",
      "The model is trained on the full development set.\n",
      "The scores are computed on the full evaluation set.\n",
      "\n",
      "             precision    recall  f1-score   support\n",
      "\n",
      "          0       0.58      0.56      0.57        25\n",
      "          1       0.77      0.89      0.82       110\n",
      "          2       0.62      0.20      0.30        25\n",
      "\n",
      "avg / total       0.72      0.73      0.70       160\n",
      "\n"
     ]
    }
   ],
   "source": [
    "params = {'kernel':('linear', 'poly', 'rbf', 'sigmoid'), \n",
    "          'C':[0.0001, 0.001, 0.01, 0.1, 1, 10, 100], \n",
    "          'gamma':[0.0101, 0.0301, 0.0401, 0.0501, 0.0601, 0.0701, 0.0801]}\n",
    "\n",
    "svc = SVC(random_state=42)\n",
    "svc_clf = GridSearchCV(svc, params, cv=10)\n",
    "svc_clf.fit(X_train, y_train)\n",
    "print(\"Best parameters set found on development set:\")\n",
    "print(svc_clf.best_params_)\n",
    "print\n",
    "print(\"Best grid score on development set:\")\n",
    "print(\"Accuracy: %0.2f (+/- %0.2f)\" % (svc_clf.best_score_, svc_clf.best_score_.std() * 2))\n",
    "print\n",
    "print(\"Detailed classification report:\")\n",
    "print(\"The model is trained on the full development set.\")\n",
    "print(\"The scores are computed on the full evaluation set.\")\n",
    "print\n",
    "y_true, y_pred = y_test, svc_clf.predict(X_test)\n",
    "print(classification_report(y_true, y_pred))"
   ]
  },
  {
   "cell_type": "code",
   "execution_count": 47,
   "metadata": {
    "collapsed": false
   },
   "outputs": [
    {
     "name": "stdout",
     "output_type": "stream",
     "text": [
      "Accuracy: 0.73 (+/- 0.08)\n"
     ]
    }
   ],
   "source": [
    "gp = GaussianProcessClassifier(1.0 * RBF(1.0), warm_start=True, random_state=42)\n",
    "\n",
    "scores = cross_val_score(gp, X_train, y_train, cv=10)\n",
    "print(\"Accuracy: %0.2f (+/- %0.2f)\" % (scores.mean(), scores.std() * 2))"
   ]
  },
  {
   "cell_type": "code",
   "execution_count": 48,
   "metadata": {
    "collapsed": false
   },
   "outputs": [
    {
     "name": "stdout",
     "output_type": "stream",
     "text": [
      "Best parameters set found on development set:\n",
      "{'n_estimators': 8, 'criterion': 'entropy', 'max_depth': 8}\n",
      "\n",
      "Best grid score on development set:\n",
      "Accuracy: 0.73 (+/- 0.00)\n",
      "\n",
      "Detailed classification report:\n",
      "The model is trained on the full development set.\n",
      "The scores are computed on the full evaluation set.\n",
      "\n",
      "             precision    recall  f1-score   support\n",
      "\n",
      "          0       0.55      0.48      0.51        25\n",
      "          1       0.76      0.95      0.85       110\n",
      "          2       1.00      0.08      0.15        25\n",
      "\n",
      "avg / total       0.77      0.74      0.68       160\n",
      "\n"
     ]
    }
   ],
   "source": [
    "params = {'n_estimators':[4,8,10,15,20], \n",
    "          'criterion':('gini', 'entropy'), \n",
    "          'max_depth':[3,4,5,6,7,8,9,10]}\n",
    "\n",
    "rf = RandomForestClassifier(random_state=42)\n",
    "rf_clf = GridSearchCV(rf, params, cv=10)\n",
    "rf_clf.fit(X_train, y_train)\n",
    "print(\"Best parameters set found on development set:\")\n",
    "print(rf_clf.best_params_)\n",
    "print\n",
    "print(\"Best grid score on development set:\")\n",
    "print(\"Accuracy: %0.2f (+/- %0.2f)\" % (rf_clf.best_score_, rf_clf.best_score_.std() * 2))\n",
    "print\n",
    "print(\"Detailed classification report:\")\n",
    "print(\"The model is trained on the full development set.\")\n",
    "print(\"The scores are computed on the full evaluation set.\")\n",
    "print\n",
    "y_true, y_pred = y_test, rf_clf.predict(X_test)\n",
    "print(classification_report(y_true, y_pred))"
   ]
  },
  {
   "cell_type": "code",
   "execution_count": 49,
   "metadata": {
    "collapsed": false
   },
   "outputs": [
    {
     "name": "stdout",
     "output_type": "stream",
     "text": [
      "Best parameters set found on development set:\n",
      "{'alpha': 0.1, 'activation': 'relu', 'learning_rate_init': 0.1, 'solver': 'sgd'}\n",
      "\n",
      "Best grid score on development set:\n",
      "Accuracy: 0.74 (+/- 0.00)\n",
      "\n",
      "Detailed classification report:\n",
      "The model is trained on the full development set.\n",
      "The scores are computed on the full evaluation set.\n",
      "\n",
      "             precision    recall  f1-score   support\n",
      "\n",
      "          0       0.62      0.64      0.63        25\n",
      "          1       0.80      0.83      0.81       110\n",
      "          2       0.50      0.40      0.44        25\n",
      "\n",
      "avg / total       0.72      0.73      0.73       160\n",
      "\n"
     ]
    }
   ],
   "source": [
    "params = {'activation':('logistic', 'tanh', 'relu'), \n",
    "          'solver':('sgd', 'adam'), \n",
    "          'alpha':[0.01, 0.1, 1, 10, 100], \n",
    "          'learning_rate_init':[0.001, 0.1, 1]}\n",
    "\n",
    "mlp = MLPClassifier(random_state=42, warm_start=True, max_iter=2000)\n",
    "mlp_clf = GridSearchCV(mlp, params, cv=10)\n",
    "mlp_clf.fit(X_train, y_train)\n",
    "print(\"Best parameters set found on development set:\")\n",
    "print(mlp_clf.best_params_)\n",
    "print\n",
    "print(\"Best grid score on development set:\")\n",
    "print(\"Accuracy: %0.2f (+/- %0.2f)\" % (mlp_clf.best_score_, mlp_clf.best_score_.std() * 2))\n",
    "print\n",
    "print(\"Detailed classification report:\")\n",
    "print(\"The model is trained on the full development set.\")\n",
    "print(\"The scores are computed on the full evaluation set.\")\n",
    "print\n",
    "y_true, y_pred = y_test, mlp_clf.predict(X_test)\n",
    "print(classification_report(y_true, y_pred))"
   ]
  },
  {
   "cell_type": "markdown",
   "metadata": {},
   "source": [
    "---\n",
    "\n",
    "### The Confusion Matrix\n",
    "\n",
    "|   |Predicted Positive | Predicted Negative |   \n",
    "|---|---|---|\n",
    "|**Actual Positive** | True Positive (TP)  | False Negative (FN)  |  \n",
    "|**Actual Negative**  | False Positive (FP)  | True Negative (TN)  | \n",
    " \n",
    "\n",
    "> **True Positive**: A positive class observation is correctly classified as positive by the model.\n",
    "\n",
    "> **False Positive**: A negative class observation is incorrectly classified as positive.\n",
    "\n",
    "> **True Negative**: A negative class observation is correctly classified as negative.\n",
    "\n",
    "> **False Negative**: A positive class observation is incorrectly classified as negative.\n",
    "\n",
    "Columns of the confusion matrix sum to the predictions by class. Rows of the matrix sum to the actual values within each class."
   ]
  },
  {
   "cell_type": "code",
   "execution_count": 50,
   "metadata": {
    "collapsed": false
   },
   "outputs": [],
   "source": [
    "model = mlp_clf.best_estimator_"
   ]
  },
  {
   "cell_type": "code",
   "execution_count": 42,
   "metadata": {
    "collapsed": false
   },
   "outputs": [],
   "source": [
    "from sklearn.externals import joblib\n",
    "#joblib.dump(model, 'data/model.pkl') "
   ]
  },
  {
   "cell_type": "code",
   "execution_count": 43,
   "metadata": {
    "collapsed": true
   },
   "outputs": [],
   "source": [
    "model = joblib.load('data/model.pkl')"
   ]
  },
  {
   "cell_type": "markdown",
   "metadata": {
    "focus": false,
    "id": "fead9b5b-7316-405d-87fd-e144dff0cbeb"
   },
   "source": [
    "### Significant Features"
   ]
  },
  {
   "cell_type": "code",
   "execution_count": 44,
   "metadata": {
    "collapsed": false
   },
   "outputs": [],
   "source": [
    "labels = X.columns.tolist()"
   ]
  },
  {
   "cell_type": "code",
   "execution_count": 45,
   "metadata": {
    "collapsed": false
   },
   "outputs": [],
   "source": [
    "max_mag = []\n",
    "for coef in model.coefs_[0]:\n",
    "    max_mag.append(max(coef.min(), coef.max(), key=abs))"
   ]
  },
  {
   "cell_type": "code",
   "execution_count": 46,
   "metadata": {
    "collapsed": false
   },
   "outputs": [],
   "source": [
    "results = pd.DataFrame(zip(labels, max_mag), columns=['feature','coefficient'])"
   ]
  },
  {
   "cell_type": "code",
   "execution_count": 47,
   "metadata": {
    "collapsed": false
   },
   "outputs": [
    {
     "data": {
      "text/html": [
       "<div>\n",
       "<table border=\"1\" class=\"dataframe\">\n",
       "  <thead>\n",
       "    <tr style=\"text-align: right;\">\n",
       "      <th></th>\n",
       "      <th>feature</th>\n",
       "      <th>coefficient</th>\n",
       "    </tr>\n",
       "  </thead>\n",
       "  <tbody>\n",
       "    <tr>\n",
       "      <th>0</th>\n",
       "      <td>city_suburb</td>\n",
       "      <td>-0.682047</td>\n",
       "    </tr>\n",
       "    <tr>\n",
       "      <th>32</th>\n",
       "      <td>engineer</td>\n",
       "      <td>-0.673415</td>\n",
       "    </tr>\n",
       "    <tr>\n",
       "      <th>33</th>\n",
       "      <td>machine learning</td>\n",
       "      <td>0.623382</td>\n",
       "    </tr>\n",
       "    <tr>\n",
       "      <th>55</th>\n",
       "      <td>python</td>\n",
       "      <td>-0.612976</td>\n",
       "    </tr>\n",
       "    <tr>\n",
       "      <th>54</th>\n",
       "      <td>data analysis</td>\n",
       "      <td>0.603112</td>\n",
       "    </tr>\n",
       "    <tr>\n",
       "      <th>31</th>\n",
       "      <td>data scientist</td>\n",
       "      <td>-0.587947</td>\n",
       "    </tr>\n",
       "    <tr>\n",
       "      <th>34</th>\n",
       "      <td>senior data</td>\n",
       "      <td>-0.559855</td>\n",
       "    </tr>\n",
       "    <tr>\n",
       "      <th>36</th>\n",
       "      <td>lead</td>\n",
       "      <td>0.557621</td>\n",
       "    </tr>\n",
       "    <tr>\n",
       "      <th>56</th>\n",
       "      <td>analytic</td>\n",
       "      <td>0.529956</td>\n",
       "    </tr>\n",
       "    <tr>\n",
       "      <th>26</th>\n",
       "      <td>senior</td>\n",
       "      <td>-0.528752</td>\n",
       "    </tr>\n",
       "  </tbody>\n",
       "</table>\n",
       "</div>"
      ],
      "text/plain": [
       "             feature  coefficient\n",
       "0        city_suburb    -0.682047\n",
       "32          engineer    -0.673415\n",
       "33  machine learning     0.623382\n",
       "55            python    -0.612976\n",
       "54     data analysis     0.603112\n",
       "31    data scientist    -0.587947\n",
       "34       senior data    -0.559855\n",
       "36              lead     0.557621\n",
       "56          analytic     0.529956\n",
       "26            senior    -0.528752"
      ]
     },
     "execution_count": 47,
     "metadata": {},
     "output_type": "execute_result"
    }
   ],
   "source": [
    "results.reindex(results['coefficient'].abs().sort_values(ascending=False).index)[:10]"
   ]
  },
  {
   "cell_type": "markdown",
   "metadata": {
    "focus": false,
    "id": "9367beff-72ba-4768-a0ba-a50b335de61d"
   },
   "source": [
    "#### Evaluate the accuracy, AUC, precision and recall of the model\n",
    "- Discuss the differences and explain when you want a high-recall or a high-precision model in this scenario."
   ]
  },
  {
   "cell_type": "markdown",
   "metadata": {
    "focus": false,
    "id": "8c22664b-92e4-4fc2-b7ac-fbac865845d3"
   },
   "source": [
    "#### Compare L1 and L2 regularization for this logistic regression model. What effect does this have on the coefficients learned?"
   ]
  },
  {
   "cell_type": "markdown",
   "metadata": {
    "focus": false,
    "id": "12d5edeb-a272-43a0-9977-d951f12fedfb"
   },
   "source": [
    "#### Take ~100 scraped entries with salaries. Convert them to use with your model and predict the salary - which entries have the highest predicted salaries?"
   ]
  },
  {
   "cell_type": "code",
   "execution_count": 52,
   "metadata": {
    "collapsed": false
   },
   "outputs": [],
   "source": [
    "more_test = extract_posts_wo_salary(max_results_per_city=100, cities=cities)"
   ]
  },
  {
   "cell_type": "code",
   "execution_count": 53,
   "metadata": {
    "collapsed": true
   },
   "outputs": [],
   "source": [
    "more_test.to_pickle('data/more_test.pkl')"
   ]
  },
  {
   "cell_type": "code",
   "execution_count": 48,
   "metadata": {
    "collapsed": false
   },
   "outputs": [],
   "source": [
    "test = pd.read_pickle('data/test.pkl')"
   ]
  },
  {
   "cell_type": "code",
   "execution_count": 49,
   "metadata": {
    "collapsed": false
   },
   "outputs": [
    {
     "data": {
      "text/html": [
       "<div>\n",
       "<table border=\"1\" class=\"dataframe\">\n",
       "  <thead>\n",
       "    <tr style=\"text-align: right;\">\n",
       "      <th></th>\n",
       "      <th>city</th>\n",
       "      <th>company</th>\n",
       "      <th>summary</th>\n",
       "      <th>title</th>\n",
       "      <th>salary_range</th>\n",
       "      <th>percentile_class</th>\n",
       "    </tr>\n",
       "  </thead>\n",
       "  <tbody>\n",
       "    <tr>\n",
       "      <th>0</th>\n",
       "      <td>New York</td>\n",
       "      <td>KPMG</td>\n",
       "      <td>kpmg is currently seeking a data scientist big...</td>\n",
       "      <td>data scientist big data analytic</td>\n",
       "      <td>$70000 to $160000</td>\n",
       "      <td>1</td>\n",
       "    </tr>\n",
       "    <tr>\n",
       "      <th>1</th>\n",
       "      <td>New York</td>\n",
       "      <td>BlackRock</td>\n",
       "      <td>we are looking for a data scientist with advan...</td>\n",
       "      <td>people analytic research data scientist</td>\n",
       "      <td>$70000 to $160000</td>\n",
       "      <td>1</td>\n",
       "    </tr>\n",
       "    <tr>\n",
       "      <th>2</th>\n",
       "      <td>New York</td>\n",
       "      <td>KPMG</td>\n",
       "      <td>retrieve process and prepare a rich data varie...</td>\n",
       "      <td>data scientist</td>\n",
       "      <td>$70000 to $160000</td>\n",
       "      <td>1</td>\n",
       "    </tr>\n",
       "    <tr>\n",
       "      <th>3</th>\n",
       "      <td>New York</td>\n",
       "      <td>Foursquare</td>\n",
       "      <td>years work experience as a data scientist or i...</td>\n",
       "      <td>analytic ads team</td>\n",
       "      <td>$70000 to $160000</td>\n",
       "      <td>1</td>\n",
       "    </tr>\n",
       "    <tr>\n",
       "      <th>4</th>\n",
       "      <td>New York</td>\n",
       "      <td>NYU School of Medicine</td>\n",
       "      <td>curation of sequence data data quality control...</td>\n",
       "      <td>bioinformatics programmer</td>\n",
       "      <td>$24000 to $69673</td>\n",
       "      <td>0</td>\n",
       "    </tr>\n",
       "    <tr>\n",
       "      <th>5</th>\n",
       "      <td>New York</td>\n",
       "      <td>NYU School of Medicine</td>\n",
       "      <td>strong interest in big data analysis prior exp...</td>\n",
       "      <td>scientific programmer</td>\n",
       "      <td>$24000 to $69673</td>\n",
       "      <td>0</td>\n",
       "    </tr>\n",
       "    <tr>\n",
       "      <th>6</th>\n",
       "      <td>New York</td>\n",
       "      <td>Research Foundation of The City University of ...</td>\n",
       "      <td>assists scientist students and other technicia...</td>\n",
       "      <td>research associate</td>\n",
       "      <td>$24000 to $69673</td>\n",
       "      <td>0</td>\n",
       "    </tr>\n",
       "    <tr>\n",
       "      <th>7</th>\n",
       "      <td>New York</td>\n",
       "      <td>JPMorgan Chase</td>\n",
       "      <td>clearly define analytic and work with data sci...</td>\n",
       "      <td>big data product strategy development manager ...</td>\n",
       "      <td>$70000 to $160000</td>\n",
       "      <td>1</td>\n",
       "    </tr>\n",
       "    <tr>\n",
       "      <th>8</th>\n",
       "      <td>New York</td>\n",
       "      <td>Microsoft</td>\n",
       "      <td>apply data analysis data mining and data engin...</td>\n",
       "      <td>principal data scientist ny or redmond</td>\n",
       "      <td>$162500 to $300000</td>\n",
       "      <td>2</td>\n",
       "    </tr>\n",
       "    <tr>\n",
       "      <th>9</th>\n",
       "      <td>New York</td>\n",
       "      <td>JPMorgan Chase</td>\n",
       "      <td>they feel comfortable working with a diverse t...</td>\n",
       "      <td>digital intelligence data engineer</td>\n",
       "      <td>$70000 to $160000</td>\n",
       "      <td>1</td>\n",
       "    </tr>\n",
       "    <tr>\n",
       "      <th>10</th>\n",
       "      <td>New York</td>\n",
       "      <td>JPMorgan Chase</td>\n",
       "      <td>they are hands on without needing an army of e...</td>\n",
       "      <td>lead data scientist digital intelligence</td>\n",
       "      <td>$162500 to $300000</td>\n",
       "      <td>2</td>\n",
       "    </tr>\n",
       "    <tr>\n",
       "      <th>11</th>\n",
       "      <td>New York</td>\n",
       "      <td>AIG</td>\n",
       "      <td>we are looking for talented curious and creati...</td>\n",
       "      <td>data science analyst</td>\n",
       "      <td>$70000 to $160000</td>\n",
       "      <td>1</td>\n",
       "    </tr>\n",
       "    <tr>\n",
       "      <th>12</th>\n",
       "      <td>New York</td>\n",
       "      <td>Comcast</td>\n",
       "      <td>data scientist intern build customer centric m...</td>\n",
       "      <td>data scientist intern</td>\n",
       "      <td>$70000 to $160000</td>\n",
       "      <td>1</td>\n",
       "    </tr>\n",
       "    <tr>\n",
       "      <th>14</th>\n",
       "      <td>New York</td>\n",
       "      <td>Bloomberg</td>\n",
       "      <td>information and data move the financial market...</td>\n",
       "      <td>applied machine learning scientist engineer re...</td>\n",
       "      <td>$70000 to $160000</td>\n",
       "      <td>1</td>\n",
       "    </tr>\n",
       "    <tr>\n",
       "      <th>15</th>\n",
       "      <td>New York</td>\n",
       "      <td>Bloomberg</td>\n",
       "      <td>information and data move the financial market...</td>\n",
       "      <td>applied machine learning scientist engineer re...</td>\n",
       "      <td>$70000 to $160000</td>\n",
       "      <td>1</td>\n",
       "    </tr>\n",
       "    <tr>\n",
       "      <th>17</th>\n",
       "      <td>New York</td>\n",
       "      <td>KPMG</td>\n",
       "      <td>retrieve process and prepare a rich data varie...</td>\n",
       "      <td>data scientist</td>\n",
       "      <td>$70000 to $160000</td>\n",
       "      <td>1</td>\n",
       "    </tr>\n",
       "    <tr>\n",
       "      <th>18</th>\n",
       "      <td>New York</td>\n",
       "      <td>Flatiron Health</td>\n",
       "      <td>you love working with data and have experience...</td>\n",
       "      <td>quantitative scientist</td>\n",
       "      <td>$70000 to $160000</td>\n",
       "      <td>1</td>\n",
       "    </tr>\n",
       "    <tr>\n",
       "      <th>19</th>\n",
       "      <td>New York</td>\n",
       "      <td>Eli Lilly</td>\n",
       "      <td>experience with spotfire data visualization so...</td>\n",
       "      <td>scientist</td>\n",
       "      <td>$70000 to $160000</td>\n",
       "      <td>1</td>\n",
       "    </tr>\n",
       "    <tr>\n",
       "      <th>20</th>\n",
       "      <td>New York</td>\n",
       "      <td>Columbia University</td>\n",
       "      <td>works with icap country teams and the strategi...</td>\n",
       "      <td>associate research scientist</td>\n",
       "      <td>$70000 to $160000</td>\n",
       "      <td>1</td>\n",
       "    </tr>\n",
       "    <tr>\n",
       "      <th>21</th>\n",
       "      <td>New York</td>\n",
       "      <td>Socure</td>\n",
       "      <td>develop machine learning models to apply test ...</td>\n",
       "      <td>senior data scientist</td>\n",
       "      <td>$162500 to $300000</td>\n",
       "      <td>2</td>\n",
       "    </tr>\n",
       "    <tr>\n",
       "      <th>22</th>\n",
       "      <td>New York</td>\n",
       "      <td>Mount Sinai Health System</td>\n",
       "      <td>scientist works with scientist and researchers...</td>\n",
       "      <td>associate computational scientist</td>\n",
       "      <td>$70000 to $160000</td>\n",
       "      <td>1</td>\n",
       "    </tr>\n",
       "    <tr>\n",
       "      <th>23</th>\n",
       "      <td>New York</td>\n",
       "      <td>Plated</td>\n",
       "      <td>data engineering data analysis and data modeli...</td>\n",
       "      <td>data engineer</td>\n",
       "      <td>$70000 to $160000</td>\n",
       "      <td>1</td>\n",
       "    </tr>\n",
       "    <tr>\n",
       "      <th>24</th>\n",
       "      <td>New York</td>\n",
       "      <td>Neustar, Inc.</td>\n",
       "      <td>data strategy analyst communicating with clien...</td>\n",
       "      <td>data strategy analyst</td>\n",
       "      <td>$70000 to $160000</td>\n",
       "      <td>1</td>\n",
       "    </tr>\n",
       "    <tr>\n",
       "      <th>25</th>\n",
       "      <td>New York</td>\n",
       "      <td>Weill Cornell Medical College</td>\n",
       "      <td>responsible for the preparation martificial in...</td>\n",
       "      <td>institutional data analyst</td>\n",
       "      <td>$70000 to $160000</td>\n",
       "      <td>1</td>\n",
       "    </tr>\n",
       "    <tr>\n",
       "      <th>26</th>\n",
       "      <td>New York</td>\n",
       "      <td>Twitter</td>\n",
       "      <td>cortex is a team of software engineers data sc...</td>\n",
       "      <td>machine learning</td>\n",
       "      <td>$162500 to $300000</td>\n",
       "      <td>2</td>\n",
       "    </tr>\n",
       "    <tr>\n",
       "      <th>27</th>\n",
       "      <td>New York</td>\n",
       "      <td>Credit Suisse</td>\n",
       "      <td>stati uniti damerica new york new york tempo p...</td>\n",
       "      <td>model validation quantitative analyst</td>\n",
       "      <td>$70000 to $160000</td>\n",
       "      <td>1</td>\n",
       "    </tr>\n",
       "    <tr>\n",
       "      <th>28</th>\n",
       "      <td>New York</td>\n",
       "      <td>BlackRock</td>\n",
       "      <td>we are looking for a data scientist with advan...</td>\n",
       "      <td>people analytic research data scientist</td>\n",
       "      <td>$70000 to $160000</td>\n",
       "      <td>1</td>\n",
       "    </tr>\n",
       "    <tr>\n",
       "      <th>29</th>\n",
       "      <td>New York</td>\n",
       "      <td>KPMG</td>\n",
       "      <td>kpmg is currently seeking a data scientist big...</td>\n",
       "      <td>data scientist big data analytic</td>\n",
       "      <td>$70000 to $160000</td>\n",
       "      <td>1</td>\n",
       "    </tr>\n",
       "    <tr>\n",
       "      <th>30</th>\n",
       "      <td>New York</td>\n",
       "      <td>BlackRock</td>\n",
       "      <td>we are looking for a data scientist with advan...</td>\n",
       "      <td>people analytic research data scientist</td>\n",
       "      <td>$70000 to $160000</td>\n",
       "      <td>1</td>\n",
       "    </tr>\n",
       "    <tr>\n",
       "      <th>32</th>\n",
       "      <td>New York</td>\n",
       "      <td>KPMG</td>\n",
       "      <td>retrieve process and prepare a rich data varie...</td>\n",
       "      <td>data scientist</td>\n",
       "      <td>$70000 to $160000</td>\n",
       "      <td>1</td>\n",
       "    </tr>\n",
       "    <tr>\n",
       "      <th>...</th>\n",
       "      <td>...</td>\n",
       "      <td>...</td>\n",
       "      <td>...</td>\n",
       "      <td>...</td>\n",
       "      <td>...</td>\n",
       "      <td>...</td>\n",
       "    </tr>\n",
       "    <tr>\n",
       "      <th>2348</th>\n",
       "      <td>Washington</td>\n",
       "      <td>Vanda Pharmaceuticals Inc.</td>\n",
       "      <td>produce and or validate datasets analyses tabu...</td>\n",
       "      <td>statistical analyst</td>\n",
       "      <td>$70000 to $160000</td>\n",
       "      <td>1</td>\n",
       "    </tr>\n",
       "    <tr>\n",
       "      <th>2350</th>\n",
       "      <td>Washington Suburb</td>\n",
       "      <td>Venesco, LLC</td>\n",
       "      <td>behavioral pharmacology research scientist ven...</td>\n",
       "      <td>behavioral pharmacology research scientist</td>\n",
       "      <td>$70000 to $160000</td>\n",
       "      <td>1</td>\n",
       "    </tr>\n",
       "    <tr>\n",
       "      <th>2352</th>\n",
       "      <td>Washington Suburb</td>\n",
       "      <td>Deloitte</td>\n",
       "      <td>gathering data from both information systems a...</td>\n",
       "      <td>data scientist</td>\n",
       "      <td>$70000 to $160000</td>\n",
       "      <td>1</td>\n",
       "    </tr>\n",
       "    <tr>\n",
       "      <th>2354</th>\n",
       "      <td>Washington Suburb</td>\n",
       "      <td>Parsons Corporation</td>\n",
       "      <td>we re looking for talented individuals to help...</td>\n",
       "      <td>marvelous machine learning analytic developer</td>\n",
       "      <td>$70000 to $160000</td>\n",
       "      <td>1</td>\n",
       "    </tr>\n",
       "    <tr>\n",
       "      <th>2355</th>\n",
       "      <td>Washington</td>\n",
       "      <td>The Washington Post</td>\n",
       "      <td>washington post is looking for passionate data...</td>\n",
       "      <td>data scientist big data</td>\n",
       "      <td>$70000 to $160000</td>\n",
       "      <td>1</td>\n",
       "    </tr>\n",
       "    <tr>\n",
       "      <th>2358</th>\n",
       "      <td>Washington Suburb</td>\n",
       "      <td>Strategic Management</td>\n",
       "      <td>extracting data and database management develo...</td>\n",
       "      <td>healthcare statistical analyst</td>\n",
       "      <td>$70000 to $160000</td>\n",
       "      <td>1</td>\n",
       "    </tr>\n",
       "    <tr>\n",
       "      <th>2359</th>\n",
       "      <td>Washington</td>\n",
       "      <td>Population Services International</td>\n",
       "      <td>knowledge management data analysis and technic...</td>\n",
       "      <td>research analyst</td>\n",
       "      <td>$70000 to $160000</td>\n",
       "      <td>1</td>\n",
       "    </tr>\n",
       "    <tr>\n",
       "      <th>2360</th>\n",
       "      <td>Washington</td>\n",
       "      <td>Concepts Beyond</td>\n",
       "      <td>experience with faa datasets especially data a...</td>\n",
       "      <td>research data analyst</td>\n",
       "      <td>$70000 to $160000</td>\n",
       "      <td>1</td>\n",
       "    </tr>\n",
       "    <tr>\n",
       "      <th>2362</th>\n",
       "      <td>Washington Suburb</td>\n",
       "      <td>University of Maryland</td>\n",
       "      <td>and analyzing data the university of maryland ...</td>\n",
       "      <td>phdtoral scientist</td>\n",
       "      <td>$24000 to $69673</td>\n",
       "      <td>0</td>\n",
       "    </tr>\n",
       "    <tr>\n",
       "      <th>2364</th>\n",
       "      <td>Washington Suburb</td>\n",
       "      <td>Integral Consulting Services, Inc.</td>\n",
       "      <td>must possess experience with data management b...</td>\n",
       "      <td>operations research analyst journeyman ii</td>\n",
       "      <td>$70000 to $160000</td>\n",
       "      <td>1</td>\n",
       "    </tr>\n",
       "    <tr>\n",
       "      <th>2365</th>\n",
       "      <td>Washington</td>\n",
       "      <td>Plus3 IT Systems</td>\n",
       "      <td>minimum years experience working on complex da...</td>\n",
       "      <td>lead data analyst</td>\n",
       "      <td>$70000 to $160000</td>\n",
       "      <td>1</td>\n",
       "    </tr>\n",
       "    <tr>\n",
       "      <th>2367</th>\n",
       "      <td>Washington Suburb</td>\n",
       "      <td>Deloitte</td>\n",
       "      <td>gathering data from both information systems a...</td>\n",
       "      <td>data scientist</td>\n",
       "      <td>$70000 to $160000</td>\n",
       "      <td>1</td>\n",
       "    </tr>\n",
       "    <tr>\n",
       "      <th>2369</th>\n",
       "      <td>Washington Suburb</td>\n",
       "      <td>Parsons Corporation</td>\n",
       "      <td>we re looking for talented individuals to help...</td>\n",
       "      <td>marvelous machine learning analytic developer</td>\n",
       "      <td>$70000 to $160000</td>\n",
       "      <td>1</td>\n",
       "    </tr>\n",
       "    <tr>\n",
       "      <th>2370</th>\n",
       "      <td>Washington</td>\n",
       "      <td>The Washington Post</td>\n",
       "      <td>washington post is looking for passionate data...</td>\n",
       "      <td>data scientist big data</td>\n",
       "      <td>$70000 to $160000</td>\n",
       "      <td>1</td>\n",
       "    </tr>\n",
       "    <tr>\n",
       "      <th>2373</th>\n",
       "      <td>Washington</td>\n",
       "      <td>United States Postal Service</td>\n",
       "      <td>analyzes data and ability to conduct studies a...</td>\n",
       "      <td>operations research analyst eas</td>\n",
       "      <td>$24000 to $69673</td>\n",
       "      <td>0</td>\n",
       "    </tr>\n",
       "    <tr>\n",
       "      <th>2374</th>\n",
       "      <td>Washington</td>\n",
       "      <td>Vanda Pharmaceuticals Inc.</td>\n",
       "      <td>produce and or validate datasets analyses tabu...</td>\n",
       "      <td>statistical analyst</td>\n",
       "      <td>$70000 to $160000</td>\n",
       "      <td>1</td>\n",
       "    </tr>\n",
       "    <tr>\n",
       "      <th>2375</th>\n",
       "      <td>Washington</td>\n",
       "      <td>xentity corporation</td>\n",
       "      <td>experience in geospatial data lifecycle includ...</td>\n",
       "      <td>geospatial architect</td>\n",
       "      <td>$70000 to $160000</td>\n",
       "      <td>1</td>\n",
       "    </tr>\n",
       "    <tr>\n",
       "      <th>2376</th>\n",
       "      <td>Washington Suburb</td>\n",
       "      <td>Earth Resources Technology, Inc</td>\n",
       "      <td>satellite remote sensing leading to the sensor...</td>\n",
       "      <td>sensor calibration scientist engineer</td>\n",
       "      <td>$70000 to $160000</td>\n",
       "      <td>1</td>\n",
       "    </tr>\n",
       "    <tr>\n",
       "      <th>2377</th>\n",
       "      <td>Washington</td>\n",
       "      <td>Population Action International (PAI)</td>\n",
       "      <td>lead brown bag discussions and provide analysi...</td>\n",
       "      <td>senior research policy analyst</td>\n",
       "      <td>$24000 to $69673</td>\n",
       "      <td>0</td>\n",
       "    </tr>\n",
       "    <tr>\n",
       "      <th>2380</th>\n",
       "      <td>Washington</td>\n",
       "      <td>Atlantic Media</td>\n",
       "      <td>experience analyzing bench marking survey data...</td>\n",
       "      <td>research analyst policy brands roundtable</td>\n",
       "      <td>$70000 to $160000</td>\n",
       "      <td>1</td>\n",
       "    </tr>\n",
       "    <tr>\n",
       "      <th>2381</th>\n",
       "      <td>Washington Suburb</td>\n",
       "      <td>Camris International</td>\n",
       "      <td>collect and analyze data from research studies...</td>\n",
       "      <td>behavioral pharm research scientist</td>\n",
       "      <td>$24000 to $69673</td>\n",
       "      <td>0</td>\n",
       "    </tr>\n",
       "    <tr>\n",
       "      <th>2382</th>\n",
       "      <td>Washington Suburb</td>\n",
       "      <td>Deloitte</td>\n",
       "      <td>gathering data from both information systems a...</td>\n",
       "      <td>data scientist</td>\n",
       "      <td>$70000 to $160000</td>\n",
       "      <td>1</td>\n",
       "    </tr>\n",
       "    <tr>\n",
       "      <th>2384</th>\n",
       "      <td>Washington Suburb</td>\n",
       "      <td>Parsons Corporation</td>\n",
       "      <td>we re looking for talented individuals to help...</td>\n",
       "      <td>marvelous machine learning analytic developer</td>\n",
       "      <td>$70000 to $160000</td>\n",
       "      <td>1</td>\n",
       "    </tr>\n",
       "    <tr>\n",
       "      <th>2385</th>\n",
       "      <td>Washington</td>\n",
       "      <td>The Washington Post</td>\n",
       "      <td>washington post is looking for passionate data...</td>\n",
       "      <td>data scientist big data</td>\n",
       "      <td>$70000 to $160000</td>\n",
       "      <td>1</td>\n",
       "    </tr>\n",
       "    <tr>\n",
       "      <th>2387</th>\n",
       "      <td>Washington</td>\n",
       "      <td>FiscalNote</td>\n",
       "      <td>you will ensure data integrity and usability o...</td>\n",
       "      <td>software engineer analytic internship</td>\n",
       "      <td>$70000 to $160000</td>\n",
       "      <td>1</td>\n",
       "    </tr>\n",
       "    <tr>\n",
       "      <th>2388</th>\n",
       "      <td>Washington Suburb</td>\n",
       "      <td>comScore</td>\n",
       "      <td>work with analyst and data scientist to design...</td>\n",
       "      <td>data engineer core java</td>\n",
       "      <td>$70000 to $160000</td>\n",
       "      <td>1</td>\n",
       "    </tr>\n",
       "    <tr>\n",
       "      <th>2391</th>\n",
       "      <td>Washington</td>\n",
       "      <td>United States Postal Service</td>\n",
       "      <td>analyzes data and ability to conduct studies a...</td>\n",
       "      <td>operations research analyst eas</td>\n",
       "      <td>$24000 to $69673</td>\n",
       "      <td>0</td>\n",
       "    </tr>\n",
       "    <tr>\n",
       "      <th>2395</th>\n",
       "      <td>Washington Suburb</td>\n",
       "      <td>ECS Federal LLC</td>\n",
       "      <td>ecs federal llc ecs is seeking a junior scient...</td>\n",
       "      <td>junior scientist engineer</td>\n",
       "      <td>$70000 to $160000</td>\n",
       "      <td>1</td>\n",
       "    </tr>\n",
       "    <tr>\n",
       "      <th>2396</th>\n",
       "      <td>Washington Suburb</td>\n",
       "      <td>Camris International</td>\n",
       "      <td>collect and analyze data from research studies...</td>\n",
       "      <td>behavioral pharm research scientist</td>\n",
       "      <td>$24000 to $69673</td>\n",
       "      <td>0</td>\n",
       "    </tr>\n",
       "    <tr>\n",
       "      <th>2397</th>\n",
       "      <td>Washington Suburb</td>\n",
       "      <td>Deloitte</td>\n",
       "      <td>gathering data from both information systems a...</td>\n",
       "      <td>data scientist</td>\n",
       "      <td>$70000 to $160000</td>\n",
       "      <td>1</td>\n",
       "    </tr>\n",
       "  </tbody>\n",
       "</table>\n",
       "<p>1693 rows × 6 columns</p>\n",
       "</div>"
      ],
      "text/plain": [
       "                   city                                            company  \\\n",
       "0              New York                                               KPMG   \n",
       "1              New York                                          BlackRock   \n",
       "2              New York                                               KPMG   \n",
       "3              New York                                         Foursquare   \n",
       "4              New York                             NYU School of Medicine   \n",
       "5              New York                             NYU School of Medicine   \n",
       "6              New York  Research Foundation of The City University of ...   \n",
       "7              New York                                     JPMorgan Chase   \n",
       "8              New York                                          Microsoft   \n",
       "9              New York                                     JPMorgan Chase   \n",
       "10             New York                                     JPMorgan Chase   \n",
       "11             New York                                                AIG   \n",
       "12             New York                                            Comcast   \n",
       "14             New York                                          Bloomberg   \n",
       "15             New York                                          Bloomberg   \n",
       "17             New York                                               KPMG   \n",
       "18             New York                                    Flatiron Health   \n",
       "19             New York                                          Eli Lilly   \n",
       "20             New York                                Columbia University   \n",
       "21             New York                                             Socure   \n",
       "22             New York                          Mount Sinai Health System   \n",
       "23             New York                                             Plated   \n",
       "24             New York                                      Neustar, Inc.   \n",
       "25             New York                      Weill Cornell Medical College   \n",
       "26             New York                                            Twitter   \n",
       "27             New York                                      Credit Suisse   \n",
       "28             New York                                          BlackRock   \n",
       "29             New York                                               KPMG   \n",
       "30             New York                                          BlackRock   \n",
       "32             New York                                               KPMG   \n",
       "...                 ...                                                ...   \n",
       "2348         Washington                         Vanda Pharmaceuticals Inc.   \n",
       "2350  Washington Suburb                                       Venesco, LLC   \n",
       "2352  Washington Suburb                                           Deloitte   \n",
       "2354  Washington Suburb                                Parsons Corporation   \n",
       "2355         Washington                                The Washington Post   \n",
       "2358  Washington Suburb                               Strategic Management   \n",
       "2359         Washington                  Population Services International   \n",
       "2360         Washington                                    Concepts Beyond   \n",
       "2362  Washington Suburb                             University of Maryland   \n",
       "2364  Washington Suburb                 Integral Consulting Services, Inc.   \n",
       "2365         Washington                                   Plus3 IT Systems   \n",
       "2367  Washington Suburb                                           Deloitte   \n",
       "2369  Washington Suburb                                Parsons Corporation   \n",
       "2370         Washington                                The Washington Post   \n",
       "2373         Washington                       United States Postal Service   \n",
       "2374         Washington                         Vanda Pharmaceuticals Inc.   \n",
       "2375         Washington                                xentity corporation   \n",
       "2376  Washington Suburb                    Earth Resources Technology, Inc   \n",
       "2377         Washington              Population Action International (PAI)   \n",
       "2380         Washington                                     Atlantic Media   \n",
       "2381  Washington Suburb                               Camris International   \n",
       "2382  Washington Suburb                                           Deloitte   \n",
       "2384  Washington Suburb                                Parsons Corporation   \n",
       "2385         Washington                                The Washington Post   \n",
       "2387         Washington                                         FiscalNote   \n",
       "2388  Washington Suburb                                           comScore   \n",
       "2391         Washington                       United States Postal Service   \n",
       "2395  Washington Suburb                                    ECS Federal LLC   \n",
       "2396  Washington Suburb                               Camris International   \n",
       "2397  Washington Suburb                                           Deloitte   \n",
       "\n",
       "                                                summary  \\\n",
       "0     kpmg is currently seeking a data scientist big...   \n",
       "1     we are looking for a data scientist with advan...   \n",
       "2     retrieve process and prepare a rich data varie...   \n",
       "3     years work experience as a data scientist or i...   \n",
       "4     curation of sequence data data quality control...   \n",
       "5     strong interest in big data analysis prior exp...   \n",
       "6     assists scientist students and other technicia...   \n",
       "7     clearly define analytic and work with data sci...   \n",
       "8     apply data analysis data mining and data engin...   \n",
       "9     they feel comfortable working with a diverse t...   \n",
       "10    they are hands on without needing an army of e...   \n",
       "11    we are looking for talented curious and creati...   \n",
       "12    data scientist intern build customer centric m...   \n",
       "14    information and data move the financial market...   \n",
       "15    information and data move the financial market...   \n",
       "17    retrieve process and prepare a rich data varie...   \n",
       "18    you love working with data and have experience...   \n",
       "19    experience with spotfire data visualization so...   \n",
       "20    works with icap country teams and the strategi...   \n",
       "21    develop machine learning models to apply test ...   \n",
       "22    scientist works with scientist and researchers...   \n",
       "23    data engineering data analysis and data modeli...   \n",
       "24    data strategy analyst communicating with clien...   \n",
       "25    responsible for the preparation martificial in...   \n",
       "26    cortex is a team of software engineers data sc...   \n",
       "27    stati uniti damerica new york new york tempo p...   \n",
       "28    we are looking for a data scientist with advan...   \n",
       "29    kpmg is currently seeking a data scientist big...   \n",
       "30    we are looking for a data scientist with advan...   \n",
       "32    retrieve process and prepare a rich data varie...   \n",
       "...                                                 ...   \n",
       "2348  produce and or validate datasets analyses tabu...   \n",
       "2350  behavioral pharmacology research scientist ven...   \n",
       "2352  gathering data from both information systems a...   \n",
       "2354  we re looking for talented individuals to help...   \n",
       "2355  washington post is looking for passionate data...   \n",
       "2358  extracting data and database management develo...   \n",
       "2359  knowledge management data analysis and technic...   \n",
       "2360  experience with faa datasets especially data a...   \n",
       "2362  and analyzing data the university of maryland ...   \n",
       "2364  must possess experience with data management b...   \n",
       "2365  minimum years experience working on complex da...   \n",
       "2367  gathering data from both information systems a...   \n",
       "2369  we re looking for talented individuals to help...   \n",
       "2370  washington post is looking for passionate data...   \n",
       "2373  analyzes data and ability to conduct studies a...   \n",
       "2374  produce and or validate datasets analyses tabu...   \n",
       "2375  experience in geospatial data lifecycle includ...   \n",
       "2376  satellite remote sensing leading to the sensor...   \n",
       "2377  lead brown bag discussions and provide analysi...   \n",
       "2380  experience analyzing bench marking survey data...   \n",
       "2381  collect and analyze data from research studies...   \n",
       "2382  gathering data from both information systems a...   \n",
       "2384  we re looking for talented individuals to help...   \n",
       "2385  washington post is looking for passionate data...   \n",
       "2387  you will ensure data integrity and usability o...   \n",
       "2388  work with analyst and data scientist to design...   \n",
       "2391  analyzes data and ability to conduct studies a...   \n",
       "2395  ecs federal llc ecs is seeking a junior scient...   \n",
       "2396  collect and analyze data from research studies...   \n",
       "2397  gathering data from both information systems a...   \n",
       "\n",
       "                                                  title        salary_range  \\\n",
       "0                      data scientist big data analytic   $70000 to $160000   \n",
       "1               people analytic research data scientist   $70000 to $160000   \n",
       "2                                        data scientist   $70000 to $160000   \n",
       "3                                     analytic ads team   $70000 to $160000   \n",
       "4                             bioinformatics programmer    $24000 to $69673   \n",
       "5                                 scientific programmer    $24000 to $69673   \n",
       "6                                    research associate    $24000 to $69673   \n",
       "7     big data product strategy development manager ...   $70000 to $160000   \n",
       "8                principal data scientist ny or redmond  $162500 to $300000   \n",
       "9                    digital intelligence data engineer   $70000 to $160000   \n",
       "10             lead data scientist digital intelligence  $162500 to $300000   \n",
       "11                                 data science analyst   $70000 to $160000   \n",
       "12                                data scientist intern   $70000 to $160000   \n",
       "14    applied machine learning scientist engineer re...   $70000 to $160000   \n",
       "15    applied machine learning scientist engineer re...   $70000 to $160000   \n",
       "17                                       data scientist   $70000 to $160000   \n",
       "18                               quantitative scientist   $70000 to $160000   \n",
       "19                                            scientist   $70000 to $160000   \n",
       "20                         associate research scientist   $70000 to $160000   \n",
       "21                                senior data scientist  $162500 to $300000   \n",
       "22                    associate computational scientist   $70000 to $160000   \n",
       "23                                        data engineer   $70000 to $160000   \n",
       "24                                data strategy analyst   $70000 to $160000   \n",
       "25                           institutional data analyst   $70000 to $160000   \n",
       "26                                     machine learning  $162500 to $300000   \n",
       "27                model validation quantitative analyst   $70000 to $160000   \n",
       "28              people analytic research data scientist   $70000 to $160000   \n",
       "29                     data scientist big data analytic   $70000 to $160000   \n",
       "30              people analytic research data scientist   $70000 to $160000   \n",
       "32                                       data scientist   $70000 to $160000   \n",
       "...                                                 ...                 ...   \n",
       "2348                                statistical analyst   $70000 to $160000   \n",
       "2350         behavioral pharmacology research scientist   $70000 to $160000   \n",
       "2352                                     data scientist   $70000 to $160000   \n",
       "2354      marvelous machine learning analytic developer   $70000 to $160000   \n",
       "2355                            data scientist big data   $70000 to $160000   \n",
       "2358                     healthcare statistical analyst   $70000 to $160000   \n",
       "2359                                   research analyst   $70000 to $160000   \n",
       "2360                              research data analyst   $70000 to $160000   \n",
       "2362                                 phdtoral scientist    $24000 to $69673   \n",
       "2364          operations research analyst journeyman ii   $70000 to $160000   \n",
       "2365                                  lead data analyst   $70000 to $160000   \n",
       "2367                                     data scientist   $70000 to $160000   \n",
       "2369      marvelous machine learning analytic developer   $70000 to $160000   \n",
       "2370                            data scientist big data   $70000 to $160000   \n",
       "2373                    operations research analyst eas    $24000 to $69673   \n",
       "2374                                statistical analyst   $70000 to $160000   \n",
       "2375                               geospatial architect   $70000 to $160000   \n",
       "2376              sensor calibration scientist engineer   $70000 to $160000   \n",
       "2377                     senior research policy analyst    $24000 to $69673   \n",
       "2380          research analyst policy brands roundtable   $70000 to $160000   \n",
       "2381                behavioral pharm research scientist    $24000 to $69673   \n",
       "2382                                     data scientist   $70000 to $160000   \n",
       "2384      marvelous machine learning analytic developer   $70000 to $160000   \n",
       "2385                            data scientist big data   $70000 to $160000   \n",
       "2387              software engineer analytic internship   $70000 to $160000   \n",
       "2388                            data engineer core java   $70000 to $160000   \n",
       "2391                    operations research analyst eas    $24000 to $69673   \n",
       "2395                          junior scientist engineer   $70000 to $160000   \n",
       "2396                behavioral pharm research scientist    $24000 to $69673   \n",
       "2397                                     data scientist   $70000 to $160000   \n",
       "\n",
       "      percentile_class  \n",
       "0                    1  \n",
       "1                    1  \n",
       "2                    1  \n",
       "3                    1  \n",
       "4                    0  \n",
       "5                    0  \n",
       "6                    0  \n",
       "7                    1  \n",
       "8                    2  \n",
       "9                    1  \n",
       "10                   2  \n",
       "11                   1  \n",
       "12                   1  \n",
       "14                   1  \n",
       "15                   1  \n",
       "17                   1  \n",
       "18                   1  \n",
       "19                   1  \n",
       "20                   1  \n",
       "21                   2  \n",
       "22                   1  \n",
       "23                   1  \n",
       "24                   1  \n",
       "25                   1  \n",
       "26                   2  \n",
       "27                   1  \n",
       "28                   1  \n",
       "29                   1  \n",
       "30                   1  \n",
       "32                   1  \n",
       "...                ...  \n",
       "2348                 1  \n",
       "2350                 1  \n",
       "2352                 1  \n",
       "2354                 1  \n",
       "2355                 1  \n",
       "2358                 1  \n",
       "2359                 1  \n",
       "2360                 1  \n",
       "2362                 0  \n",
       "2364                 1  \n",
       "2365                 1  \n",
       "2367                 1  \n",
       "2369                 1  \n",
       "2370                 1  \n",
       "2373                 0  \n",
       "2374                 1  \n",
       "2375                 1  \n",
       "2376                 1  \n",
       "2377                 0  \n",
       "2380                 1  \n",
       "2381                 0  \n",
       "2382                 1  \n",
       "2384                 1  \n",
       "2385                 1  \n",
       "2387                 1  \n",
       "2388                 1  \n",
       "2391                 0  \n",
       "2395                 1  \n",
       "2396                 0  \n",
       "2397                 1  \n",
       "\n",
       "[1693 rows x 6 columns]"
      ]
     },
     "execution_count": 49,
     "metadata": {},
     "output_type": "execute_result"
    }
   ],
   "source": [
    "predict_salary(test)"
   ]
  }
 ],
 "metadata": {
  "anaconda-cloud": {},
  "kernelspec": {
   "display_name": "Python [default]",
   "language": "python",
   "name": "python2"
  },
  "language_info": {
   "codemirror_mode": {
    "name": "ipython",
    "version": 2
   },
   "file_extension": ".py",
   "mimetype": "text/x-python",
   "name": "python",
   "nbconvert_exporter": "python",
   "pygments_lexer": "ipython2",
   "version": "2.7.12"
  }
 },
 "nbformat": 4,
 "nbformat_minor": 0
}
